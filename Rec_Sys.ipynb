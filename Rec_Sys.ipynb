{
  "nbformat": 4,
  "nbformat_minor": 0,
  "metadata": {
    "colab": {
      "name": "Rec Sys.ipynb",
      "provenance": [],
      "collapsed_sections": [],
      "authorship_tag": "ABX9TyPlGGBIV8lS457MWBUXOsyr",
      "include_colab_link": true
    },
    "kernelspec": {
      "name": "python3",
      "display_name": "Python 3"
    }
  },
  "cells": [
    {
      "cell_type": "markdown",
      "metadata": {
        "id": "view-in-github",
        "colab_type": "text"
      },
      "source": [
        "<a href=\"https://colab.research.google.com/github/Dev-py-r/python-from-scratch/blob/master/Rec_Sys.ipynb\" target=\"_parent\"><img src=\"https://colab.research.google.com/assets/colab-badge.svg\" alt=\"Open In Colab\"/></a>"
      ]
    },
    {
      "cell_type": "code",
      "metadata": {
        "id": "POq8tGQWrrHn"
      },
      "source": [
        "import numpy as np\r\n",
        "import pandas as pd\r\n",
        "import matplotlib.pyplot as plt \r\n",
        "import sys\r\n",
        "import pickle"
      ],
      "execution_count": 1,
      "outputs": []
    },
    {
      "cell_type": "code",
      "metadata": {
        "id": "0yPNUpzQsYpk"
      },
      "source": [
        "movies = pd.read_csv('/movie.csv')\r\n",
        "ratings = pd.read_csv('/rating.csv')\r\n",
        "tags = pd.read_csv('/tag.csv')"
      ],
      "execution_count": 14,
      "outputs": []
    },
    {
      "cell_type": "code",
      "metadata": {
        "colab": {
          "base_uri": "https://localhost:8080/",
          "height": 111
        },
        "id": "xwc5JUgPvFXK",
        "outputId": "a3996726-625a-4853-be6c-060019c3478a"
      },
      "source": [
        "movies.head(2)"
      ],
      "execution_count": 15,
      "outputs": [
        {
          "output_type": "execute_result",
          "data": {
            "text/html": [
              "<div>\n",
              "<style scoped>\n",
              "    .dataframe tbody tr th:only-of-type {\n",
              "        vertical-align: middle;\n",
              "    }\n",
              "\n",
              "    .dataframe tbody tr th {\n",
              "        vertical-align: top;\n",
              "    }\n",
              "\n",
              "    .dataframe thead th {\n",
              "        text-align: right;\n",
              "    }\n",
              "</style>\n",
              "<table border=\"1\" class=\"dataframe\">\n",
              "  <thead>\n",
              "    <tr style=\"text-align: right;\">\n",
              "      <th></th>\n",
              "      <th>movieId</th>\n",
              "      <th>title</th>\n",
              "      <th>genres</th>\n",
              "    </tr>\n",
              "  </thead>\n",
              "  <tbody>\n",
              "    <tr>\n",
              "      <th>0</th>\n",
              "      <td>1</td>\n",
              "      <td>Toy Story (1995)</td>\n",
              "      <td>Adventure|Animation|Children|Comedy|Fantasy</td>\n",
              "    </tr>\n",
              "    <tr>\n",
              "      <th>1</th>\n",
              "      <td>2</td>\n",
              "      <td>Jumanji (1995)</td>\n",
              "      <td>Adventure|Children|Fantasy</td>\n",
              "    </tr>\n",
              "  </tbody>\n",
              "</table>\n",
              "</div>"
            ],
            "text/plain": [
              "   movieId             title                                       genres\n",
              "0        1  Toy Story (1995)  Adventure|Animation|Children|Comedy|Fantasy\n",
              "1        2    Jumanji (1995)                   Adventure|Children|Fantasy"
            ]
          },
          "metadata": {
            "tags": []
          },
          "execution_count": 15
        }
      ]
    },
    {
      "cell_type": "code",
      "metadata": {
        "colab": {
          "base_uri": "https://localhost:8080/",
          "height": 111
        },
        "id": "s9B7gC9NvpSJ",
        "outputId": "9ad517b2-f703-45aa-bfb3-f8e018de44b8"
      },
      "source": [
        "ratings.head(2)"
      ],
      "execution_count": 16,
      "outputs": [
        {
          "output_type": "execute_result",
          "data": {
            "text/html": [
              "<div>\n",
              "<style scoped>\n",
              "    .dataframe tbody tr th:only-of-type {\n",
              "        vertical-align: middle;\n",
              "    }\n",
              "\n",
              "    .dataframe tbody tr th {\n",
              "        vertical-align: top;\n",
              "    }\n",
              "\n",
              "    .dataframe thead th {\n",
              "        text-align: right;\n",
              "    }\n",
              "</style>\n",
              "<table border=\"1\" class=\"dataframe\">\n",
              "  <thead>\n",
              "    <tr style=\"text-align: right;\">\n",
              "      <th></th>\n",
              "      <th>userId</th>\n",
              "      <th>movieId</th>\n",
              "      <th>rating</th>\n",
              "      <th>timestamp</th>\n",
              "    </tr>\n",
              "  </thead>\n",
              "  <tbody>\n",
              "    <tr>\n",
              "      <th>0</th>\n",
              "      <td>1</td>\n",
              "      <td>2.0</td>\n",
              "      <td>3.5</td>\n",
              "      <td>2005-04-02 23:53:47</td>\n",
              "    </tr>\n",
              "    <tr>\n",
              "      <th>1</th>\n",
              "      <td>1</td>\n",
              "      <td>29.0</td>\n",
              "      <td>3.5</td>\n",
              "      <td>2005-04-02 23:31:16</td>\n",
              "    </tr>\n",
              "  </tbody>\n",
              "</table>\n",
              "</div>"
            ],
            "text/plain": [
              "   userId  movieId  rating            timestamp\n",
              "0       1      2.0     3.5  2005-04-02 23:53:47\n",
              "1       1     29.0     3.5  2005-04-02 23:31:16"
            ]
          },
          "metadata": {
            "tags": []
          },
          "execution_count": 16
        }
      ]
    },
    {
      "cell_type": "code",
      "metadata": {
        "colab": {
          "base_uri": "https://localhost:8080/",
          "height": 111
        },
        "id": "0bkl4-SfvsOi",
        "outputId": "8b099015-3ce6-4caf-9b55-6624d0a8d400"
      },
      "source": [
        "tags.head(2)"
      ],
      "execution_count": 18,
      "outputs": [
        {
          "output_type": "execute_result",
          "data": {
            "text/html": [
              "<div>\n",
              "<style scoped>\n",
              "    .dataframe tbody tr th:only-of-type {\n",
              "        vertical-align: middle;\n",
              "    }\n",
              "\n",
              "    .dataframe tbody tr th {\n",
              "        vertical-align: top;\n",
              "    }\n",
              "\n",
              "    .dataframe thead th {\n",
              "        text-align: right;\n",
              "    }\n",
              "</style>\n",
              "<table border=\"1\" class=\"dataframe\">\n",
              "  <thead>\n",
              "    <tr style=\"text-align: right;\">\n",
              "      <th></th>\n",
              "      <th>userId</th>\n",
              "      <th>movieId</th>\n",
              "      <th>tag</th>\n",
              "      <th>timestamp</th>\n",
              "    </tr>\n",
              "  </thead>\n",
              "  <tbody>\n",
              "    <tr>\n",
              "      <th>0</th>\n",
              "      <td>18</td>\n",
              "      <td>4141</td>\n",
              "      <td>Mark Waters</td>\n",
              "      <td>2009-04-24 18:19:40</td>\n",
              "    </tr>\n",
              "    <tr>\n",
              "      <th>1</th>\n",
              "      <td>65</td>\n",
              "      <td>208</td>\n",
              "      <td>dark hero</td>\n",
              "      <td>2013-05-10 01:41:18</td>\n",
              "    </tr>\n",
              "  </tbody>\n",
              "</table>\n",
              "</div>"
            ],
            "text/plain": [
              "   userId  movieId          tag            timestamp\n",
              "0      18     4141  Mark Waters  2009-04-24 18:19:40\n",
              "1      65      208    dark hero  2013-05-10 01:41:18"
            ]
          },
          "metadata": {
            "tags": []
          },
          "execution_count": 18
        }
      ]
    },
    {
      "cell_type": "code",
      "metadata": {
        "id": "ugTKEgKXvxrS"
      },
      "source": [
        "movies['genres']=movies['genres'].str.replace('|',' ')"
      ],
      "execution_count": 20,
      "outputs": []
    },
    {
      "cell_type": "code",
      "metadata": {
        "colab": {
          "base_uri": "https://localhost:8080/",
          "height": 0
        },
        "id": "0e-YJGnov6aw",
        "outputId": "bb4452a5-cde6-4d48-82e0-c044bfffed96"
      },
      "source": [
        "len(movies.movieId.unique())"
      ],
      "execution_count": 21,
      "outputs": [
        {
          "output_type": "execute_result",
          "data": {
            "text/plain": [
              "27278"
            ]
          },
          "metadata": {
            "tags": []
          },
          "execution_count": 21
        }
      ]
    },
    {
      "cell_type": "code",
      "metadata": {
        "colab": {
          "base_uri": "https://localhost:8080/",
          "height": 0
        },
        "id": "BH-kIElhv-TI",
        "outputId": "798ef1b7-7f48-4550-91f2-1effcf30648a"
      },
      "source": [
        "len(ratings.movieId.unique())"
      ],
      "execution_count": 22,
      "outputs": [
        {
          "output_type": "execute_result",
          "data": {
            "text/plain": [
              "16552"
            ]
          },
          "metadata": {
            "tags": []
          },
          "execution_count": 22
        }
      ]
    },
    {
      "cell_type": "code",
      "metadata": {
        "id": "nX8Xv_iPwB7V"
      },
      "source": [
        "#limit rating to user rating that have rated more than 55 movies-- \r\n",
        "#Otherwise it becomes impossible to pivot the rating dataframe later for collaborative filtering.\r\n",
        "ratings_f = ratings.groupby('userId').filter(lambda x: len(x) >= 55)"
      ],
      "execution_count": 23,
      "outputs": []
    },
    {
      "cell_type": "code",
      "metadata": {
        "id": "s7YqpmB0wEmH"
      },
      "source": [
        "# list the movie titles that survive the filtering\r\n",
        "movie_list_rating = ratings_f.movieId.unique().tolist()"
      ],
      "execution_count": 24,
      "outputs": []
    },
    {
      "cell_type": "code",
      "metadata": {
        "colab": {
          "base_uri": "https://localhost:8080/",
          "height": 0
        },
        "id": "AamIL9-RwHGa",
        "outputId": "8ae57c02-c74f-4bab-f244-4f1e5261538e"
      },
      "source": [
        "# no worries: we have kept 97% of the original movie titles in ratings data frame\r\n",
        "len(ratings_f.movieId.unique())/len(movies.movieId.unique())*100"
      ],
      "execution_count": 25,
      "outputs": [
        {
          "output_type": "execute_result",
          "data": {
            "text/plain": [
              "60.411320478040906"
            ]
          },
          "metadata": {
            "tags": []
          },
          "execution_count": 25
        }
      ]
    },
    {
      "cell_type": "code",
      "metadata": {
        "colab": {
          "base_uri": "https://localhost:8080/",
          "height": 0
        },
        "id": "RoyjJpp6wKg2",
        "outputId": "387f4522-74f4-4221-c68c-f23fbc9911a7"
      },
      "source": [
        "# but only 57% of the users \r\n",
        "len(ratings_f.userId.unique())/len(ratings.userId.unique())*100"
      ],
      "execution_count": 26,
      "outputs": [
        {
          "output_type": "execute_result",
          "data": {
            "text/plain": [
              "58.475442043222"
            ]
          },
          "metadata": {
            "tags": []
          },
          "execution_count": 26
        }
      ]
    },
    {
      "cell_type": "code",
      "metadata": {
        "id": "U2ODFvdfwNtm"
      },
      "source": [
        "#filter the movies data frame\r\n",
        "movies = movies[movies.movieId.isin(movie_list_rating)]"
      ],
      "execution_count": 27,
      "outputs": []
    },
    {
      "cell_type": "code",
      "metadata": {
        "colab": {
          "base_uri": "https://localhost:8080/",
          "height": 142
        },
        "id": "-ujL9fuqwp3S",
        "outputId": "eb407f4e-dcbe-4415-9828-f03856ae7a79"
      },
      "source": [
        "movies.head(3)"
      ],
      "execution_count": 28,
      "outputs": [
        {
          "output_type": "execute_result",
          "data": {
            "text/html": [
              "<div>\n",
              "<style scoped>\n",
              "    .dataframe tbody tr th:only-of-type {\n",
              "        vertical-align: middle;\n",
              "    }\n",
              "\n",
              "    .dataframe tbody tr th {\n",
              "        vertical-align: top;\n",
              "    }\n",
              "\n",
              "    .dataframe thead th {\n",
              "        text-align: right;\n",
              "    }\n",
              "</style>\n",
              "<table border=\"1\" class=\"dataframe\">\n",
              "  <thead>\n",
              "    <tr style=\"text-align: right;\">\n",
              "      <th></th>\n",
              "      <th>movieId</th>\n",
              "      <th>title</th>\n",
              "      <th>genres</th>\n",
              "    </tr>\n",
              "  </thead>\n",
              "  <tbody>\n",
              "    <tr>\n",
              "      <th>0</th>\n",
              "      <td>1</td>\n",
              "      <td>Toy Story (1995)</td>\n",
              "      <td>Adventure Animation Children Comedy Fantasy</td>\n",
              "    </tr>\n",
              "    <tr>\n",
              "      <th>1</th>\n",
              "      <td>2</td>\n",
              "      <td>Jumanji (1995)</td>\n",
              "      <td>Adventure Children Fantasy</td>\n",
              "    </tr>\n",
              "    <tr>\n",
              "      <th>2</th>\n",
              "      <td>3</td>\n",
              "      <td>Grumpier Old Men (1995)</td>\n",
              "      <td>Comedy Romance</td>\n",
              "    </tr>\n",
              "  </tbody>\n",
              "</table>\n",
              "</div>"
            ],
            "text/plain": [
              "   movieId  ...                                       genres\n",
              "0        1  ...  Adventure Animation Children Comedy Fantasy\n",
              "1        2  ...                   Adventure Children Fantasy\n",
              "2        3  ...                               Comedy Romance\n",
              "\n",
              "[3 rows x 3 columns]"
            ]
          },
          "metadata": {
            "tags": []
          },
          "execution_count": 28
        }
      ]
    },
    {
      "cell_type": "code",
      "metadata": {
        "id": "uVFFQ5cSwz7y"
      },
      "source": [
        "# map movie to id:\r\n",
        "Mapping_file = dict(zip(movies.title.tolist(),movies.movieId.tolist()))"
      ],
      "execution_count": 29,
      "outputs": []
    },
    {
      "cell_type": "code",
      "metadata": {
        "id": "ANpJl1BVw3MF"
      },
      "source": [
        "tags.drop(['timestamp'],1,inplace=True)\r\n",
        "ratings_f.drop(['timestamp'],1,inplace=True)"
      ],
      "execution_count": 30,
      "outputs": []
    },
    {
      "cell_type": "markdown",
      "metadata": {
        "id": "OUxP1DUgw73D"
      },
      "source": [
        "Merge the movies and the tags data frame and create a etadata tag for each movie:"
      ]
    },
    {
      "cell_type": "code",
      "metadata": {
        "colab": {
          "base_uri": "https://localhost:8080/",
          "height": 142
        },
        "id": "X-aSt6M2w6Rx",
        "outputId": "7ad069f8-91b6-479e-e6ec-d8b64573e049"
      },
      "source": [
        "# create a mixed dataframe of movies title, genres \r\n",
        "# and all user tags given to each movie\r\n",
        "mixed = pd.merge(movies,tags,on='movieId',how='left')\r\n",
        "mixed.head(3)"
      ],
      "execution_count": 31,
      "outputs": [
        {
          "output_type": "execute_result",
          "data": {
            "text/html": [
              "<div>\n",
              "<style scoped>\n",
              "    .dataframe tbody tr th:only-of-type {\n",
              "        vertical-align: middle;\n",
              "    }\n",
              "\n",
              "    .dataframe tbody tr th {\n",
              "        vertical-align: top;\n",
              "    }\n",
              "\n",
              "    .dataframe thead th {\n",
              "        text-align: right;\n",
              "    }\n",
              "</style>\n",
              "<table border=\"1\" class=\"dataframe\">\n",
              "  <thead>\n",
              "    <tr style=\"text-align: right;\">\n",
              "      <th></th>\n",
              "      <th>movieId</th>\n",
              "      <th>title</th>\n",
              "      <th>genres</th>\n",
              "      <th>userId</th>\n",
              "      <th>tag</th>\n",
              "    </tr>\n",
              "  </thead>\n",
              "  <tbody>\n",
              "    <tr>\n",
              "      <th>0</th>\n",
              "      <td>1</td>\n",
              "      <td>Toy Story (1995)</td>\n",
              "      <td>Adventure Animation Children Comedy Fantasy</td>\n",
              "      <td>1644.0</td>\n",
              "      <td>Watched</td>\n",
              "    </tr>\n",
              "    <tr>\n",
              "      <th>1</th>\n",
              "      <td>1</td>\n",
              "      <td>Toy Story (1995)</td>\n",
              "      <td>Adventure Animation Children Comedy Fantasy</td>\n",
              "      <td>1741.0</td>\n",
              "      <td>computer animation</td>\n",
              "    </tr>\n",
              "    <tr>\n",
              "      <th>2</th>\n",
              "      <td>1</td>\n",
              "      <td>Toy Story (1995)</td>\n",
              "      <td>Adventure Animation Children Comedy Fantasy</td>\n",
              "      <td>1741.0</td>\n",
              "      <td>Disney animated feature</td>\n",
              "    </tr>\n",
              "  </tbody>\n",
              "</table>\n",
              "</div>"
            ],
            "text/plain": [
              "   movieId             title  ...  userId                      tag\n",
              "0        1  Toy Story (1995)  ...  1644.0                  Watched\n",
              "1        1  Toy Story (1995)  ...  1741.0       computer animation\n",
              "2        1  Toy Story (1995)  ...  1741.0  Disney animated feature\n",
              "\n",
              "[3 rows x 5 columns]"
            ]
          },
          "metadata": {
            "tags": []
          },
          "execution_count": 31
        }
      ]
    },
    {
      "cell_type": "code",
      "metadata": {
        "colab": {
          "base_uri": "https://localhost:8080/",
          "height": 142
        },
        "id": "4kDRtIaLxEsE",
        "outputId": "c223c2a1-b0f8-4201-c681-0da5ab6a7361"
      },
      "source": [
        "#create metadata from tags and genres\r\n",
        "mixed.fillna(\"\", inplace=True)\r\n",
        "mixed = pd.DataFrame(mixed.groupby('movieId')['tag'].apply(lambda x: \"%s\"%' '.join(x)))\r\n",
        "Final = pd.merge(movies,mixed, on ='movieId',how = 'left')\r\n",
        "Final['metadata'] = Final[['tag','genres']].apply(lambda x: ' '.join(x),axis = 1)\r\n",
        "Final[['movieId','title','metadata']].head(3)"
      ],
      "execution_count": 32,
      "outputs": [
        {
          "output_type": "execute_result",
          "data": {
            "text/html": [
              "<div>\n",
              "<style scoped>\n",
              "    .dataframe tbody tr th:only-of-type {\n",
              "        vertical-align: middle;\n",
              "    }\n",
              "\n",
              "    .dataframe tbody tr th {\n",
              "        vertical-align: top;\n",
              "    }\n",
              "\n",
              "    .dataframe thead th {\n",
              "        text-align: right;\n",
              "    }\n",
              "</style>\n",
              "<table border=\"1\" class=\"dataframe\">\n",
              "  <thead>\n",
              "    <tr style=\"text-align: right;\">\n",
              "      <th></th>\n",
              "      <th>movieId</th>\n",
              "      <th>title</th>\n",
              "      <th>metadata</th>\n",
              "    </tr>\n",
              "  </thead>\n",
              "  <tbody>\n",
              "    <tr>\n",
              "      <th>0</th>\n",
              "      <td>1</td>\n",
              "      <td>Toy Story (1995)</td>\n",
              "      <td>Watched computer animation Disney animated fea...</td>\n",
              "    </tr>\n",
              "    <tr>\n",
              "      <th>1</th>\n",
              "      <td>2</td>\n",
              "      <td>Jumanji (1995)</td>\n",
              "      <td>time travel adapted from:book board game child...</td>\n",
              "    </tr>\n",
              "    <tr>\n",
              "      <th>2</th>\n",
              "      <td>3</td>\n",
              "      <td>Grumpier Old Men (1995)</td>\n",
              "      <td>old people that is actually funny sequel fever...</td>\n",
              "    </tr>\n",
              "  </tbody>\n",
              "</table>\n",
              "</div>"
            ],
            "text/plain": [
              "   movieId  ...                                           metadata\n",
              "0        1  ...  Watched computer animation Disney animated fea...\n",
              "1        2  ...  time travel adapted from:book board game child...\n",
              "2        3  ...  old people that is actually funny sequel fever...\n",
              "\n",
              "[3 rows x 3 columns]"
            ]
          },
          "metadata": {
            "tags": []
          },
          "execution_count": 32
        }
      ]
    },
    {
      "cell_type": "code",
      "metadata": {
        "colab": {
          "base_uri": "https://localhost:8080/"
        },
        "id": "YGTNCOdKxHMW",
        "outputId": "9ac06941-a228-4892-c151-1ab7b60fedaf"
      },
      "source": [
        "Final.shape"
      ],
      "execution_count": 33,
      "outputs": [
        {
          "output_type": "execute_result",
          "data": {
            "text/plain": [
              "(16479, 5)"
            ]
          },
          "metadata": {
            "tags": []
          },
          "execution_count": 33
        }
      ]
    },
    {
      "cell_type": "code",
      "metadata": {
        "colab": {
          "base_uri": "https://localhost:8080/",
          "height": 171
        },
        "id": "IDx5L42gxJ99",
        "outputId": "0ff2bc6d-1e36-4c9d-cf25-fccaab4265c1"
      },
      "source": [
        "Final.loc[1,'metadata']"
      ],
      "execution_count": 34,
      "outputs": [
        {
          "output_type": "execute_result",
          "data": {
            "application/vnd.google.colaboratory.intrinsic+json": {
              "type": "string"
            },
            "text/plain": [
              "'time travel adapted from:book board game childhood recaptured game herds of CGI animals scary see also:Zathura time time travel board game fantasy Robin Williams scary time travel Robin Williams Joe Johnston Robin Williams kid flick jungle Robin Williams board game Robin Williams animals Lebbat Robin Williams time travel adventure Robin Williams Children Fantasy Robin Williams Dynamic CGI Action Kirsten Dunst Robin Williams Robin Williams fantasy kid flick animals animals fantasy For children fantasy adapted from:book childish Children kid flick time travel Joe Johnston fantasy Robin Williams time travel animals board game children fantasy Kirsten Dunst Robin Williams time travel board game time travel Children kid flick Filmed in BC fantasy Robin Williams animals bad cgi based on a book board game Chris Van Allsburg Robin Williams Robin Williams game magic board game monkey adapted from:book animals bad cgi based on a book board game childhood recaptured Children Chris Van Allsburg fantasy Filmed in BC jungle kid flick Kirsten Dunst monkey Robin Williams Saturn Award (Best Special Effects) Saturn Award (Best Supporting Actress) scary time time travel animals based on a book magic board game monkey Robin Williams time travel animals childhood recaptured herds of CGI animals Kirsten Dunst Robin Williams fantasy Robin Williams scary time travel CLV bad cgi horrifying (but not Horror genre) Kirsten Dunst magic board game monkey not for kids fantasy animals fantasy Robin Williams scary Adventure Children Fantasy'"
            ]
          },
          "metadata": {
            "tags": []
          },
          "execution_count": 34
        }
      ]
    },
    {
      "cell_type": "markdown",
      "metadata": {
        "id": "P2Wq038axN-E"
      },
      "source": [
        "# Creating a content latent matrix from movie metadata:\r\n",
        "\r\n",
        "# tf-idf vectors and truncated SVD :"
      ]
    },
    {
      "cell_type": "code",
      "metadata": {
        "colab": {
          "base_uri": "https://localhost:8080/"
        },
        "id": "JY5kMxSfxM0p",
        "outputId": "d15aaf13-3805-49f3-ca71-790c89f035d7"
      },
      "source": [
        "from sklearn.feature_extraction.text import TfidfVectorizer\r\n",
        "tfidf = TfidfVectorizer(stop_words='english')\r\n",
        "tfidf_matrix = tfidf.fit_transform(Final['metadata'])\r\n",
        "tfidf_df = pd.DataFrame(tfidf_matrix.toarray() , index=Final.index.tolist())\r\n",
        "print(tfidf_df.shape)"
      ],
      "execution_count": 35,
      "outputs": [
        {
          "output_type": "stream",
          "text": [
            "(16479, 22046)\n"
          ],
          "name": "stdout"
        }
      ]
    },
    {
      "cell_type": "code",
      "metadata": {
        "colab": {
          "base_uri": "https://localhost:8080/",
          "height": 253
        },
        "id": "8fr5Eyz7xeCu",
        "outputId": "df8cf67f-e62e-4bf4-fc50-5bb013868ef7"
      },
      "source": [
        "tfidf_df.head()"
      ],
      "execution_count": 36,
      "outputs": [
        {
          "output_type": "execute_result",
          "data": {
            "text/html": [
              "<div>\n",
              "<style scoped>\n",
              "    .dataframe tbody tr th:only-of-type {\n",
              "        vertical-align: middle;\n",
              "    }\n",
              "\n",
              "    .dataframe tbody tr th {\n",
              "        vertical-align: top;\n",
              "    }\n",
              "\n",
              "    .dataframe thead th {\n",
              "        text-align: right;\n",
              "    }\n",
              "</style>\n",
              "<table border=\"1\" class=\"dataframe\">\n",
              "  <thead>\n",
              "    <tr style=\"text-align: right;\">\n",
              "      <th></th>\n",
              "      <th>0</th>\n",
              "      <th>1</th>\n",
              "      <th>2</th>\n",
              "      <th>3</th>\n",
              "      <th>4</th>\n",
              "      <th>5</th>\n",
              "      <th>6</th>\n",
              "      <th>7</th>\n",
              "      <th>8</th>\n",
              "      <th>9</th>\n",
              "      <th>10</th>\n",
              "      <th>11</th>\n",
              "      <th>12</th>\n",
              "      <th>13</th>\n",
              "      <th>14</th>\n",
              "      <th>15</th>\n",
              "      <th>16</th>\n",
              "      <th>17</th>\n",
              "      <th>18</th>\n",
              "      <th>19</th>\n",
              "      <th>20</th>\n",
              "      <th>21</th>\n",
              "      <th>22</th>\n",
              "      <th>23</th>\n",
              "      <th>24</th>\n",
              "      <th>25</th>\n",
              "      <th>26</th>\n",
              "      <th>27</th>\n",
              "      <th>28</th>\n",
              "      <th>29</th>\n",
              "      <th>30</th>\n",
              "      <th>31</th>\n",
              "      <th>32</th>\n",
              "      <th>33</th>\n",
              "      <th>34</th>\n",
              "      <th>35</th>\n",
              "      <th>36</th>\n",
              "      <th>37</th>\n",
              "      <th>38</th>\n",
              "      <th>39</th>\n",
              "      <th>...</th>\n",
              "      <th>22006</th>\n",
              "      <th>22007</th>\n",
              "      <th>22008</th>\n",
              "      <th>22009</th>\n",
              "      <th>22010</th>\n",
              "      <th>22011</th>\n",
              "      <th>22012</th>\n",
              "      <th>22013</th>\n",
              "      <th>22014</th>\n",
              "      <th>22015</th>\n",
              "      <th>22016</th>\n",
              "      <th>22017</th>\n",
              "      <th>22018</th>\n",
              "      <th>22019</th>\n",
              "      <th>22020</th>\n",
              "      <th>22021</th>\n",
              "      <th>22022</th>\n",
              "      <th>22023</th>\n",
              "      <th>22024</th>\n",
              "      <th>22025</th>\n",
              "      <th>22026</th>\n",
              "      <th>22027</th>\n",
              "      <th>22028</th>\n",
              "      <th>22029</th>\n",
              "      <th>22030</th>\n",
              "      <th>22031</th>\n",
              "      <th>22032</th>\n",
              "      <th>22033</th>\n",
              "      <th>22034</th>\n",
              "      <th>22035</th>\n",
              "      <th>22036</th>\n",
              "      <th>22037</th>\n",
              "      <th>22038</th>\n",
              "      <th>22039</th>\n",
              "      <th>22040</th>\n",
              "      <th>22041</th>\n",
              "      <th>22042</th>\n",
              "      <th>22043</th>\n",
              "      <th>22044</th>\n",
              "      <th>22045</th>\n",
              "    </tr>\n",
              "  </thead>\n",
              "  <tbody>\n",
              "    <tr>\n",
              "      <th>0</th>\n",
              "      <td>0.0</td>\n",
              "      <td>0.0</td>\n",
              "      <td>0.0</td>\n",
              "      <td>0.0</td>\n",
              "      <td>0.0</td>\n",
              "      <td>0.0</td>\n",
              "      <td>0.0</td>\n",
              "      <td>0.0</td>\n",
              "      <td>0.0</td>\n",
              "      <td>0.0</td>\n",
              "      <td>0.0</td>\n",
              "      <td>0.0</td>\n",
              "      <td>0.0</td>\n",
              "      <td>0.0</td>\n",
              "      <td>0.0</td>\n",
              "      <td>0.0</td>\n",
              "      <td>0.0</td>\n",
              "      <td>0.0</td>\n",
              "      <td>0.0</td>\n",
              "      <td>0.0</td>\n",
              "      <td>0.0</td>\n",
              "      <td>0.0</td>\n",
              "      <td>0.0</td>\n",
              "      <td>0.0</td>\n",
              "      <td>0.0</td>\n",
              "      <td>0.0</td>\n",
              "      <td>0.0</td>\n",
              "      <td>0.0</td>\n",
              "      <td>0.0</td>\n",
              "      <td>0.0</td>\n",
              "      <td>0.0</td>\n",
              "      <td>0.0</td>\n",
              "      <td>0.0</td>\n",
              "      <td>0.0</td>\n",
              "      <td>0.0</td>\n",
              "      <td>0.0</td>\n",
              "      <td>0.0</td>\n",
              "      <td>0.0</td>\n",
              "      <td>0.0</td>\n",
              "      <td>0.0</td>\n",
              "      <td>...</td>\n",
              "      <td>0.0</td>\n",
              "      <td>0.0</td>\n",
              "      <td>0.0</td>\n",
              "      <td>0.0</td>\n",
              "      <td>0.0</td>\n",
              "      <td>0.0</td>\n",
              "      <td>0.0</td>\n",
              "      <td>0.0</td>\n",
              "      <td>0.0</td>\n",
              "      <td>0.0</td>\n",
              "      <td>0.0</td>\n",
              "      <td>0.0</td>\n",
              "      <td>0.0</td>\n",
              "      <td>0.0</td>\n",
              "      <td>0.0</td>\n",
              "      <td>0.0</td>\n",
              "      <td>0.0</td>\n",
              "      <td>0.0</td>\n",
              "      <td>0.0</td>\n",
              "      <td>0.0</td>\n",
              "      <td>0.0</td>\n",
              "      <td>0.0</td>\n",
              "      <td>0.0</td>\n",
              "      <td>0.0</td>\n",
              "      <td>0.0</td>\n",
              "      <td>0.0</td>\n",
              "      <td>0.0</td>\n",
              "      <td>0.0</td>\n",
              "      <td>0.0</td>\n",
              "      <td>0.0</td>\n",
              "      <td>0.0</td>\n",
              "      <td>0.0</td>\n",
              "      <td>0.0</td>\n",
              "      <td>0.0</td>\n",
              "      <td>0.0</td>\n",
              "      <td>0.0</td>\n",
              "      <td>0.0</td>\n",
              "      <td>0.0</td>\n",
              "      <td>0.0</td>\n",
              "      <td>0.0</td>\n",
              "    </tr>\n",
              "    <tr>\n",
              "      <th>1</th>\n",
              "      <td>0.0</td>\n",
              "      <td>0.0</td>\n",
              "      <td>0.0</td>\n",
              "      <td>0.0</td>\n",
              "      <td>0.0</td>\n",
              "      <td>0.0</td>\n",
              "      <td>0.0</td>\n",
              "      <td>0.0</td>\n",
              "      <td>0.0</td>\n",
              "      <td>0.0</td>\n",
              "      <td>0.0</td>\n",
              "      <td>0.0</td>\n",
              "      <td>0.0</td>\n",
              "      <td>0.0</td>\n",
              "      <td>0.0</td>\n",
              "      <td>0.0</td>\n",
              "      <td>0.0</td>\n",
              "      <td>0.0</td>\n",
              "      <td>0.0</td>\n",
              "      <td>0.0</td>\n",
              "      <td>0.0</td>\n",
              "      <td>0.0</td>\n",
              "      <td>0.0</td>\n",
              "      <td>0.0</td>\n",
              "      <td>0.0</td>\n",
              "      <td>0.0</td>\n",
              "      <td>0.0</td>\n",
              "      <td>0.0</td>\n",
              "      <td>0.0</td>\n",
              "      <td>0.0</td>\n",
              "      <td>0.0</td>\n",
              "      <td>0.0</td>\n",
              "      <td>0.0</td>\n",
              "      <td>0.0</td>\n",
              "      <td>0.0</td>\n",
              "      <td>0.0</td>\n",
              "      <td>0.0</td>\n",
              "      <td>0.0</td>\n",
              "      <td>0.0</td>\n",
              "      <td>0.0</td>\n",
              "      <td>...</td>\n",
              "      <td>0.0</td>\n",
              "      <td>0.0</td>\n",
              "      <td>0.0</td>\n",
              "      <td>0.0</td>\n",
              "      <td>0.0</td>\n",
              "      <td>0.0</td>\n",
              "      <td>0.0</td>\n",
              "      <td>0.0</td>\n",
              "      <td>0.0</td>\n",
              "      <td>0.0</td>\n",
              "      <td>0.0</td>\n",
              "      <td>0.0</td>\n",
              "      <td>0.0</td>\n",
              "      <td>0.0</td>\n",
              "      <td>0.0</td>\n",
              "      <td>0.0</td>\n",
              "      <td>0.0</td>\n",
              "      <td>0.0</td>\n",
              "      <td>0.0</td>\n",
              "      <td>0.0</td>\n",
              "      <td>0.0</td>\n",
              "      <td>0.0</td>\n",
              "      <td>0.0</td>\n",
              "      <td>0.0</td>\n",
              "      <td>0.0</td>\n",
              "      <td>0.0</td>\n",
              "      <td>0.0</td>\n",
              "      <td>0.0</td>\n",
              "      <td>0.0</td>\n",
              "      <td>0.0</td>\n",
              "      <td>0.0</td>\n",
              "      <td>0.0</td>\n",
              "      <td>0.0</td>\n",
              "      <td>0.0</td>\n",
              "      <td>0.0</td>\n",
              "      <td>0.0</td>\n",
              "      <td>0.0</td>\n",
              "      <td>0.0</td>\n",
              "      <td>0.0</td>\n",
              "      <td>0.0</td>\n",
              "    </tr>\n",
              "    <tr>\n",
              "      <th>2</th>\n",
              "      <td>0.0</td>\n",
              "      <td>0.0</td>\n",
              "      <td>0.0</td>\n",
              "      <td>0.0</td>\n",
              "      <td>0.0</td>\n",
              "      <td>0.0</td>\n",
              "      <td>0.0</td>\n",
              "      <td>0.0</td>\n",
              "      <td>0.0</td>\n",
              "      <td>0.0</td>\n",
              "      <td>0.0</td>\n",
              "      <td>0.0</td>\n",
              "      <td>0.0</td>\n",
              "      <td>0.0</td>\n",
              "      <td>0.0</td>\n",
              "      <td>0.0</td>\n",
              "      <td>0.0</td>\n",
              "      <td>0.0</td>\n",
              "      <td>0.0</td>\n",
              "      <td>0.0</td>\n",
              "      <td>0.0</td>\n",
              "      <td>0.0</td>\n",
              "      <td>0.0</td>\n",
              "      <td>0.0</td>\n",
              "      <td>0.0</td>\n",
              "      <td>0.0</td>\n",
              "      <td>0.0</td>\n",
              "      <td>0.0</td>\n",
              "      <td>0.0</td>\n",
              "      <td>0.0</td>\n",
              "      <td>0.0</td>\n",
              "      <td>0.0</td>\n",
              "      <td>0.0</td>\n",
              "      <td>0.0</td>\n",
              "      <td>0.0</td>\n",
              "      <td>0.0</td>\n",
              "      <td>0.0</td>\n",
              "      <td>0.0</td>\n",
              "      <td>0.0</td>\n",
              "      <td>0.0</td>\n",
              "      <td>...</td>\n",
              "      <td>0.0</td>\n",
              "      <td>0.0</td>\n",
              "      <td>0.0</td>\n",
              "      <td>0.0</td>\n",
              "      <td>0.0</td>\n",
              "      <td>0.0</td>\n",
              "      <td>0.0</td>\n",
              "      <td>0.0</td>\n",
              "      <td>0.0</td>\n",
              "      <td>0.0</td>\n",
              "      <td>0.0</td>\n",
              "      <td>0.0</td>\n",
              "      <td>0.0</td>\n",
              "      <td>0.0</td>\n",
              "      <td>0.0</td>\n",
              "      <td>0.0</td>\n",
              "      <td>0.0</td>\n",
              "      <td>0.0</td>\n",
              "      <td>0.0</td>\n",
              "      <td>0.0</td>\n",
              "      <td>0.0</td>\n",
              "      <td>0.0</td>\n",
              "      <td>0.0</td>\n",
              "      <td>0.0</td>\n",
              "      <td>0.0</td>\n",
              "      <td>0.0</td>\n",
              "      <td>0.0</td>\n",
              "      <td>0.0</td>\n",
              "      <td>0.0</td>\n",
              "      <td>0.0</td>\n",
              "      <td>0.0</td>\n",
              "      <td>0.0</td>\n",
              "      <td>0.0</td>\n",
              "      <td>0.0</td>\n",
              "      <td>0.0</td>\n",
              "      <td>0.0</td>\n",
              "      <td>0.0</td>\n",
              "      <td>0.0</td>\n",
              "      <td>0.0</td>\n",
              "      <td>0.0</td>\n",
              "    </tr>\n",
              "    <tr>\n",
              "      <th>3</th>\n",
              "      <td>0.0</td>\n",
              "      <td>0.0</td>\n",
              "      <td>0.0</td>\n",
              "      <td>0.0</td>\n",
              "      <td>0.0</td>\n",
              "      <td>0.0</td>\n",
              "      <td>0.0</td>\n",
              "      <td>0.0</td>\n",
              "      <td>0.0</td>\n",
              "      <td>0.0</td>\n",
              "      <td>0.0</td>\n",
              "      <td>0.0</td>\n",
              "      <td>0.0</td>\n",
              "      <td>0.0</td>\n",
              "      <td>0.0</td>\n",
              "      <td>0.0</td>\n",
              "      <td>0.0</td>\n",
              "      <td>0.0</td>\n",
              "      <td>0.0</td>\n",
              "      <td>0.0</td>\n",
              "      <td>0.0</td>\n",
              "      <td>0.0</td>\n",
              "      <td>0.0</td>\n",
              "      <td>0.0</td>\n",
              "      <td>0.0</td>\n",
              "      <td>0.0</td>\n",
              "      <td>0.0</td>\n",
              "      <td>0.0</td>\n",
              "      <td>0.0</td>\n",
              "      <td>0.0</td>\n",
              "      <td>0.0</td>\n",
              "      <td>0.0</td>\n",
              "      <td>0.0</td>\n",
              "      <td>0.0</td>\n",
              "      <td>0.0</td>\n",
              "      <td>0.0</td>\n",
              "      <td>0.0</td>\n",
              "      <td>0.0</td>\n",
              "      <td>0.0</td>\n",
              "      <td>0.0</td>\n",
              "      <td>...</td>\n",
              "      <td>0.0</td>\n",
              "      <td>0.0</td>\n",
              "      <td>0.0</td>\n",
              "      <td>0.0</td>\n",
              "      <td>0.0</td>\n",
              "      <td>0.0</td>\n",
              "      <td>0.0</td>\n",
              "      <td>0.0</td>\n",
              "      <td>0.0</td>\n",
              "      <td>0.0</td>\n",
              "      <td>0.0</td>\n",
              "      <td>0.0</td>\n",
              "      <td>0.0</td>\n",
              "      <td>0.0</td>\n",
              "      <td>0.0</td>\n",
              "      <td>0.0</td>\n",
              "      <td>0.0</td>\n",
              "      <td>0.0</td>\n",
              "      <td>0.0</td>\n",
              "      <td>0.0</td>\n",
              "      <td>0.0</td>\n",
              "      <td>0.0</td>\n",
              "      <td>0.0</td>\n",
              "      <td>0.0</td>\n",
              "      <td>0.0</td>\n",
              "      <td>0.0</td>\n",
              "      <td>0.0</td>\n",
              "      <td>0.0</td>\n",
              "      <td>0.0</td>\n",
              "      <td>0.0</td>\n",
              "      <td>0.0</td>\n",
              "      <td>0.0</td>\n",
              "      <td>0.0</td>\n",
              "      <td>0.0</td>\n",
              "      <td>0.0</td>\n",
              "      <td>0.0</td>\n",
              "      <td>0.0</td>\n",
              "      <td>0.0</td>\n",
              "      <td>0.0</td>\n",
              "      <td>0.0</td>\n",
              "    </tr>\n",
              "    <tr>\n",
              "      <th>4</th>\n",
              "      <td>0.0</td>\n",
              "      <td>0.0</td>\n",
              "      <td>0.0</td>\n",
              "      <td>0.0</td>\n",
              "      <td>0.0</td>\n",
              "      <td>0.0</td>\n",
              "      <td>0.0</td>\n",
              "      <td>0.0</td>\n",
              "      <td>0.0</td>\n",
              "      <td>0.0</td>\n",
              "      <td>0.0</td>\n",
              "      <td>0.0</td>\n",
              "      <td>0.0</td>\n",
              "      <td>0.0</td>\n",
              "      <td>0.0</td>\n",
              "      <td>0.0</td>\n",
              "      <td>0.0</td>\n",
              "      <td>0.0</td>\n",
              "      <td>0.0</td>\n",
              "      <td>0.0</td>\n",
              "      <td>0.0</td>\n",
              "      <td>0.0</td>\n",
              "      <td>0.0</td>\n",
              "      <td>0.0</td>\n",
              "      <td>0.0</td>\n",
              "      <td>0.0</td>\n",
              "      <td>0.0</td>\n",
              "      <td>0.0</td>\n",
              "      <td>0.0</td>\n",
              "      <td>0.0</td>\n",
              "      <td>0.0</td>\n",
              "      <td>0.0</td>\n",
              "      <td>0.0</td>\n",
              "      <td>0.0</td>\n",
              "      <td>0.0</td>\n",
              "      <td>0.0</td>\n",
              "      <td>0.0</td>\n",
              "      <td>0.0</td>\n",
              "      <td>0.0</td>\n",
              "      <td>0.0</td>\n",
              "      <td>...</td>\n",
              "      <td>0.0</td>\n",
              "      <td>0.0</td>\n",
              "      <td>0.0</td>\n",
              "      <td>0.0</td>\n",
              "      <td>0.0</td>\n",
              "      <td>0.0</td>\n",
              "      <td>0.0</td>\n",
              "      <td>0.0</td>\n",
              "      <td>0.0</td>\n",
              "      <td>0.0</td>\n",
              "      <td>0.0</td>\n",
              "      <td>0.0</td>\n",
              "      <td>0.0</td>\n",
              "      <td>0.0</td>\n",
              "      <td>0.0</td>\n",
              "      <td>0.0</td>\n",
              "      <td>0.0</td>\n",
              "      <td>0.0</td>\n",
              "      <td>0.0</td>\n",
              "      <td>0.0</td>\n",
              "      <td>0.0</td>\n",
              "      <td>0.0</td>\n",
              "      <td>0.0</td>\n",
              "      <td>0.0</td>\n",
              "      <td>0.0</td>\n",
              "      <td>0.0</td>\n",
              "      <td>0.0</td>\n",
              "      <td>0.0</td>\n",
              "      <td>0.0</td>\n",
              "      <td>0.0</td>\n",
              "      <td>0.0</td>\n",
              "      <td>0.0</td>\n",
              "      <td>0.0</td>\n",
              "      <td>0.0</td>\n",
              "      <td>0.0</td>\n",
              "      <td>0.0</td>\n",
              "      <td>0.0</td>\n",
              "      <td>0.0</td>\n",
              "      <td>0.0</td>\n",
              "      <td>0.0</td>\n",
              "    </tr>\n",
              "  </tbody>\n",
              "</table>\n",
              "<p>5 rows × 22046 columns</p>\n",
              "</div>"
            ],
            "text/plain": [
              "   0      1      2      3      4      ...  22041  22042  22043  22044  22045\n",
              "0    0.0    0.0    0.0    0.0    0.0  ...    0.0    0.0    0.0    0.0    0.0\n",
              "1    0.0    0.0    0.0    0.0    0.0  ...    0.0    0.0    0.0    0.0    0.0\n",
              "2    0.0    0.0    0.0    0.0    0.0  ...    0.0    0.0    0.0    0.0    0.0\n",
              "3    0.0    0.0    0.0    0.0    0.0  ...    0.0    0.0    0.0    0.0    0.0\n",
              "4    0.0    0.0    0.0    0.0    0.0  ...    0.0    0.0    0.0    0.0    0.0\n",
              "\n",
              "[5 rows x 22046 columns]"
            ]
          },
          "metadata": {
            "tags": []
          },
          "execution_count": 36
        }
      ]
    },
    {
      "cell_type": "markdown",
      "metadata": {
        "id": "mzvCyOFGxk9f"
      },
      "source": [
        "# The first 200 components explain over 50% of the variance:"
      ]
    },
    {
      "cell_type": "code",
      "metadata": {
        "colab": {
          "base_uri": "https://localhost:8080/",
          "height": 282
        },
        "id": "HS_hqxAOxjOf",
        "outputId": "af5a0bf5-20d8-4495-a7f7-1661b58922d9"
      },
      "source": [
        "#Compress with SVD\r\n",
        "from sklearn.decomposition import TruncatedSVD\r\n",
        "svd = TruncatedSVD(n_components = 200 )\r\n",
        "latent_matrix = svd.fit_transform(tfidf_df)\r\n",
        "#plot var explained to see what latent dimensions to use\r\n",
        "explained = svd.explained_variance_ratio_.cumsum()\r\n",
        "plt.plot(explained,'.-', ms = 16, color = 'red')\r\n",
        "plt.xlabel('Singular value components',fontsize = 12)\r\n",
        "plt.ylabel('Cumulative percent of variance',fontsize = 12)\r\n",
        "plt.show()"
      ],
      "execution_count": 37,
      "outputs": [
        {
          "output_type": "display_data",
          "data": {
            "image/png": "[encoded data removed]",
            "text/plain": [
              "<Figure size 432x288 with 1 Axes>"
            ]
          },
          "metadata": {
            "tags": [],
            "needs_background": "light"
          }
        }
      ]
    },
    {
      "cell_type": "code",
      "metadata": {
        "id": "ACQjwqbmxuSy"
      },
      "source": [
        "#number of latent dimensions to keep\r\n",
        "n = 200 \r\n",
        "latent_matrix_1_df = pd.DataFrame(latent_matrix[:,0:n], index=Final.title.tolist())"
      ],
      "execution_count": 38,
      "outputs": []
    },
    {
      "cell_type": "code",
      "metadata": {
        "colab": {
          "base_uri": "https://localhost:8080/"
        },
        "id": "1vl3TIevxw_O",
        "outputId": "78946618-59dd-4110-d46d-b2b51bfb60b8"
      },
      "source": [
        "# our content latent matrix:\r\n",
        "latent_matrix.shape"
      ],
      "execution_count": 39,
      "outputs": [
        {
          "output_type": "execute_result",
          "data": {
            "text/plain": [
              "(16479, 200)"
            ]
          },
          "metadata": {
            "tags": []
          },
          "execution_count": 39
        }
      ]
    },
    {
      "cell_type": "markdown",
      "metadata": {
        "id": "tkYrhW2bxzfG"
      },
      "source": [
        "# Creating a collaborative latent matrix from user ratings:"
      ]
    },
    {
      "cell_type": "code",
      "metadata": {
        "colab": {
          "base_uri": "https://localhost:8080/",
          "height": 204
        },
        "id": "YuhsJT48x3Jk",
        "outputId": "2e55b8c9-ce85-4dcc-a3a5-9e09b30c8007"
      },
      "source": [
        "ratings_f.head()"
      ],
      "execution_count": 40,
      "outputs": [
        {
          "output_type": "execute_result",
          "data": {
            "text/html": [
              "<div>\n",
              "<style scoped>\n",
              "    .dataframe tbody tr th:only-of-type {\n",
              "        vertical-align: middle;\n",
              "    }\n",
              "\n",
              "    .dataframe tbody tr th {\n",
              "        vertical-align: top;\n",
              "    }\n",
              "\n",
              "    .dataframe thead th {\n",
              "        text-align: right;\n",
              "    }\n",
              "</style>\n",
              "<table border=\"1\" class=\"dataframe\">\n",
              "  <thead>\n",
              "    <tr style=\"text-align: right;\">\n",
              "      <th></th>\n",
              "      <th>userId</th>\n",
              "      <th>movieId</th>\n",
              "      <th>rating</th>\n",
              "    </tr>\n",
              "  </thead>\n",
              "  <tbody>\n",
              "    <tr>\n",
              "      <th>0</th>\n",
              "      <td>1</td>\n",
              "      <td>2.0</td>\n",
              "      <td>3.5</td>\n",
              "    </tr>\n",
              "    <tr>\n",
              "      <th>1</th>\n",
              "      <td>1</td>\n",
              "      <td>29.0</td>\n",
              "      <td>3.5</td>\n",
              "    </tr>\n",
              "    <tr>\n",
              "      <th>2</th>\n",
              "      <td>1</td>\n",
              "      <td>32.0</td>\n",
              "      <td>3.5</td>\n",
              "    </tr>\n",
              "    <tr>\n",
              "      <th>3</th>\n",
              "      <td>1</td>\n",
              "      <td>47.0</td>\n",
              "      <td>3.5</td>\n",
              "    </tr>\n",
              "    <tr>\n",
              "      <th>4</th>\n",
              "      <td>1</td>\n",
              "      <td>50.0</td>\n",
              "      <td>3.5</td>\n",
              "    </tr>\n",
              "  </tbody>\n",
              "</table>\n",
              "</div>"
            ],
            "text/plain": [
              "   userId  movieId  rating\n",
              "0       1      2.0     3.5\n",
              "1       1     29.0     3.5\n",
              "2       1     32.0     3.5\n",
              "3       1     47.0     3.5\n",
              "4       1     50.0     3.5"
            ]
          },
          "metadata": {
            "tags": []
          },
          "execution_count": 40
        }
      ]
    },
    {
      "cell_type": "code",
      "metadata": {
        "id": "x9-33aS2x6Gl"
      },
      "source": [
        "ratings_f1 = pd.merge(movies[['movieId']], ratings_f, on=\"movieId\", how=\"right\")"
      ],
      "execution_count": 41,
      "outputs": []
    },
    {
      "cell_type": "code",
      "metadata": {
        "colab": {
          "base_uri": "https://localhost:8080/",
          "height": 80
        },
        "id": "RBx0cyJlx9sP",
        "outputId": "a1c2158f-7479-462e-8dc8-1209a599731b"
      },
      "source": [
        "ratings_f1.head(1)"
      ],
      "execution_count": 42,
      "outputs": [
        {
          "output_type": "execute_result",
          "data": {
            "text/html": [
              "<div>\n",
              "<style scoped>\n",
              "    .dataframe tbody tr th:only-of-type {\n",
              "        vertical-align: middle;\n",
              "    }\n",
              "\n",
              "    .dataframe tbody tr th {\n",
              "        vertical-align: top;\n",
              "    }\n",
              "\n",
              "    .dataframe thead th {\n",
              "        text-align: right;\n",
              "    }\n",
              "</style>\n",
              "<table border=\"1\" class=\"dataframe\">\n",
              "  <thead>\n",
              "    <tr style=\"text-align: right;\">\n",
              "      <th></th>\n",
              "      <th>movieId</th>\n",
              "      <th>userId</th>\n",
              "      <th>rating</th>\n",
              "    </tr>\n",
              "  </thead>\n",
              "  <tbody>\n",
              "    <tr>\n",
              "      <th>0</th>\n",
              "      <td>2</td>\n",
              "      <td>1</td>\n",
              "      <td>3.5</td>\n",
              "    </tr>\n",
              "  </tbody>\n",
              "</table>\n",
              "</div>"
            ],
            "text/plain": [
              "   movieId  userId  rating\n",
              "0        2       1     3.5"
            ]
          },
          "metadata": {
            "tags": []
          },
          "execution_count": 42
        }
      ]
    },
    {
      "cell_type": "code",
      "metadata": {
        "id": "koV3wY_FyBxV"
      },
      "source": [
        "ratings_f2 = ratings_f1.pivot(index = 'movieId', columns ='userId', values = 'rating').fillna(0)"
      ],
      "execution_count": 44,
      "outputs": []
    },
    {
      "cell_type": "code",
      "metadata": {
        "colab": {
          "base_uri": "https://localhost:8080/",
          "height": 191
        },
        "id": "Y63EOXkMyERa",
        "outputId": "be750f59-4f14-4bb8-91b6-bce5f3eff7ac"
      },
      "source": [
        "ratings_f2.head(2)"
      ],
      "execution_count": 45,
      "outputs": [
        {
          "output_type": "execute_result",
          "data": {
            "text/html": [
              "<div>\n",
              "<style scoped>\n",
              "    .dataframe tbody tr th:only-of-type {\n",
              "        vertical-align: middle;\n",
              "    }\n",
              "\n",
              "    .dataframe tbody tr th {\n",
              "        vertical-align: top;\n",
              "    }\n",
              "\n",
              "    .dataframe thead th {\n",
              "        text-align: right;\n",
              "    }\n",
              "</style>\n",
              "<table border=\"1\" class=\"dataframe\">\n",
              "  <thead>\n",
              "    <tr style=\"text-align: right;\">\n",
              "      <th>userId</th>\n",
              "      <th>1</th>\n",
              "      <th>2</th>\n",
              "      <th>3</th>\n",
              "      <th>5</th>\n",
              "      <th>7</th>\n",
              "      <th>8</th>\n",
              "      <th>11</th>\n",
              "      <th>13</th>\n",
              "      <th>14</th>\n",
              "      <th>16</th>\n",
              "      <th>18</th>\n",
              "      <th>21</th>\n",
              "      <th>22</th>\n",
              "      <th>23</th>\n",
              "      <th>24</th>\n",
              "      <th>25</th>\n",
              "      <th>26</th>\n",
              "      <th>27</th>\n",
              "      <th>29</th>\n",
              "      <th>31</th>\n",
              "      <th>32</th>\n",
              "      <th>34</th>\n",
              "      <th>35</th>\n",
              "      <th>38</th>\n",
              "      <th>40</th>\n",
              "      <th>41</th>\n",
              "      <th>43</th>\n",
              "      <th>46</th>\n",
              "      <th>48</th>\n",
              "      <th>50</th>\n",
              "      <th>51</th>\n",
              "      <th>53</th>\n",
              "      <th>54</th>\n",
              "      <th>56</th>\n",
              "      <th>58</th>\n",
              "      <th>60</th>\n",
              "      <th>61</th>\n",
              "      <th>65</th>\n",
              "      <th>67</th>\n",
              "      <th>69</th>\n",
              "      <th>...</th>\n",
              "      <th>12646</th>\n",
              "      <th>12647</th>\n",
              "      <th>12648</th>\n",
              "      <th>12649</th>\n",
              "      <th>12653</th>\n",
              "      <th>12655</th>\n",
              "      <th>12659</th>\n",
              "      <th>12660</th>\n",
              "      <th>12665</th>\n",
              "      <th>12666</th>\n",
              "      <th>12668</th>\n",
              "      <th>12669</th>\n",
              "      <th>12670</th>\n",
              "      <th>12671</th>\n",
              "      <th>12672</th>\n",
              "      <th>12673</th>\n",
              "      <th>12674</th>\n",
              "      <th>12676</th>\n",
              "      <th>12677</th>\n",
              "      <th>12678</th>\n",
              "      <th>12679</th>\n",
              "      <th>12681</th>\n",
              "      <th>12683</th>\n",
              "      <th>12684</th>\n",
              "      <th>12687</th>\n",
              "      <th>12688</th>\n",
              "      <th>12695</th>\n",
              "      <th>12696</th>\n",
              "      <th>12700</th>\n",
              "      <th>12704</th>\n",
              "      <th>12705</th>\n",
              "      <th>12706</th>\n",
              "      <th>12707</th>\n",
              "      <th>12710</th>\n",
              "      <th>12711</th>\n",
              "      <th>12717</th>\n",
              "      <th>12718</th>\n",
              "      <th>12719</th>\n",
              "      <th>12720</th>\n",
              "      <th>12722</th>\n",
              "    </tr>\n",
              "    <tr>\n",
              "      <th>movieId</th>\n",
              "      <th></th>\n",
              "      <th></th>\n",
              "      <th></th>\n",
              "      <th></th>\n",
              "      <th></th>\n",
              "      <th></th>\n",
              "      <th></th>\n",
              "      <th></th>\n",
              "      <th></th>\n",
              "      <th></th>\n",
              "      <th></th>\n",
              "      <th></th>\n",
              "      <th></th>\n",
              "      <th></th>\n",
              "      <th></th>\n",
              "      <th></th>\n",
              "      <th></th>\n",
              "      <th></th>\n",
              "      <th></th>\n",
              "      <th></th>\n",
              "      <th></th>\n",
              "      <th></th>\n",
              "      <th></th>\n",
              "      <th></th>\n",
              "      <th></th>\n",
              "      <th></th>\n",
              "      <th></th>\n",
              "      <th></th>\n",
              "      <th></th>\n",
              "      <th></th>\n",
              "      <th></th>\n",
              "      <th></th>\n",
              "      <th></th>\n",
              "      <th></th>\n",
              "      <th></th>\n",
              "      <th></th>\n",
              "      <th></th>\n",
              "      <th></th>\n",
              "      <th></th>\n",
              "      <th></th>\n",
              "      <th></th>\n",
              "      <th></th>\n",
              "      <th></th>\n",
              "      <th></th>\n",
              "      <th></th>\n",
              "      <th></th>\n",
              "      <th></th>\n",
              "      <th></th>\n",
              "      <th></th>\n",
              "      <th></th>\n",
              "      <th></th>\n",
              "      <th></th>\n",
              "      <th></th>\n",
              "      <th></th>\n",
              "      <th></th>\n",
              "      <th></th>\n",
              "      <th></th>\n",
              "      <th></th>\n",
              "      <th></th>\n",
              "      <th></th>\n",
              "      <th></th>\n",
              "      <th></th>\n",
              "      <th></th>\n",
              "      <th></th>\n",
              "      <th></th>\n",
              "      <th></th>\n",
              "      <th></th>\n",
              "      <th></th>\n",
              "      <th></th>\n",
              "      <th></th>\n",
              "      <th></th>\n",
              "      <th></th>\n",
              "      <th></th>\n",
              "      <th></th>\n",
              "      <th></th>\n",
              "      <th></th>\n",
              "      <th></th>\n",
              "      <th></th>\n",
              "      <th></th>\n",
              "      <th></th>\n",
              "      <th></th>\n",
              "    </tr>\n",
              "  </thead>\n",
              "  <tbody>\n",
              "    <tr>\n",
              "      <th>1</th>\n",
              "      <td>0.0</td>\n",
              "      <td>0.0</td>\n",
              "      <td>4.0</td>\n",
              "      <td>0.0</td>\n",
              "      <td>0.0</td>\n",
              "      <td>4.0</td>\n",
              "      <td>4.5</td>\n",
              "      <td>4.0</td>\n",
              "      <td>4.5</td>\n",
              "      <td>3.0</td>\n",
              "      <td>0.0</td>\n",
              "      <td>0.0</td>\n",
              "      <td>3.0</td>\n",
              "      <td>4.0</td>\n",
              "      <td>4.0</td>\n",
              "      <td>0.0</td>\n",
              "      <td>0.0</td>\n",
              "      <td>0.0</td>\n",
              "      <td>0.0</td>\n",
              "      <td>3.0</td>\n",
              "      <td>0.0</td>\n",
              "      <td>5.0</td>\n",
              "      <td>0.0</td>\n",
              "      <td>0.0</td>\n",
              "      <td>0.0</td>\n",
              "      <td>0.0</td>\n",
              "      <td>0.0</td>\n",
              "      <td>0.0</td>\n",
              "      <td>0.0</td>\n",
              "      <td>0.0</td>\n",
              "      <td>0.0</td>\n",
              "      <td>4.0</td>\n",
              "      <td>4.0</td>\n",
              "      <td>0.0</td>\n",
              "      <td>5.0</td>\n",
              "      <td>0.0</td>\n",
              "      <td>0.0</td>\n",
              "      <td>0.0</td>\n",
              "      <td>0.0</td>\n",
              "      <td>4.0</td>\n",
              "      <td>...</td>\n",
              "      <td>0.0</td>\n",
              "      <td>0.0</td>\n",
              "      <td>0.0</td>\n",
              "      <td>3.5</td>\n",
              "      <td>0.0</td>\n",
              "      <td>0.0</td>\n",
              "      <td>4.5</td>\n",
              "      <td>0.0</td>\n",
              "      <td>3.0</td>\n",
              "      <td>4.0</td>\n",
              "      <td>4.0</td>\n",
              "      <td>3.0</td>\n",
              "      <td>0.0</td>\n",
              "      <td>4.5</td>\n",
              "      <td>4.0</td>\n",
              "      <td>0.0</td>\n",
              "      <td>0.0</td>\n",
              "      <td>0.0</td>\n",
              "      <td>4.0</td>\n",
              "      <td>0.0</td>\n",
              "      <td>0.0</td>\n",
              "      <td>0.0</td>\n",
              "      <td>4.0</td>\n",
              "      <td>0.0</td>\n",
              "      <td>0.0</td>\n",
              "      <td>5.0</td>\n",
              "      <td>0.0</td>\n",
              "      <td>5.0</td>\n",
              "      <td>4.0</td>\n",
              "      <td>4.0</td>\n",
              "      <td>5.0</td>\n",
              "      <td>0.0</td>\n",
              "      <td>0.0</td>\n",
              "      <td>4.0</td>\n",
              "      <td>0.0</td>\n",
              "      <td>0.0</td>\n",
              "      <td>4.0</td>\n",
              "      <td>0.0</td>\n",
              "      <td>5.0</td>\n",
              "      <td>3.0</td>\n",
              "    </tr>\n",
              "    <tr>\n",
              "      <th>2</th>\n",
              "      <td>3.5</td>\n",
              "      <td>0.0</td>\n",
              "      <td>0.0</td>\n",
              "      <td>3.0</td>\n",
              "      <td>0.0</td>\n",
              "      <td>0.0</td>\n",
              "      <td>0.0</td>\n",
              "      <td>3.0</td>\n",
              "      <td>0.0</td>\n",
              "      <td>0.0</td>\n",
              "      <td>0.0</td>\n",
              "      <td>0.0</td>\n",
              "      <td>0.0</td>\n",
              "      <td>0.0</td>\n",
              "      <td>0.0</td>\n",
              "      <td>0.0</td>\n",
              "      <td>0.0</td>\n",
              "      <td>0.0</td>\n",
              "      <td>3.0</td>\n",
              "      <td>0.0</td>\n",
              "      <td>0.0</td>\n",
              "      <td>3.0</td>\n",
              "      <td>0.0</td>\n",
              "      <td>0.0</td>\n",
              "      <td>0.0</td>\n",
              "      <td>0.0</td>\n",
              "      <td>0.0</td>\n",
              "      <td>0.0</td>\n",
              "      <td>0.0</td>\n",
              "      <td>0.0</td>\n",
              "      <td>0.0</td>\n",
              "      <td>0.0</td>\n",
              "      <td>3.0</td>\n",
              "      <td>0.0</td>\n",
              "      <td>0.0</td>\n",
              "      <td>0.0</td>\n",
              "      <td>0.0</td>\n",
              "      <td>0.0</td>\n",
              "      <td>0.0</td>\n",
              "      <td>0.0</td>\n",
              "      <td>...</td>\n",
              "      <td>2.5</td>\n",
              "      <td>0.0</td>\n",
              "      <td>0.0</td>\n",
              "      <td>3.0</td>\n",
              "      <td>0.0</td>\n",
              "      <td>0.0</td>\n",
              "      <td>4.0</td>\n",
              "      <td>0.0</td>\n",
              "      <td>4.0</td>\n",
              "      <td>0.0</td>\n",
              "      <td>0.0</td>\n",
              "      <td>0.0</td>\n",
              "      <td>0.0</td>\n",
              "      <td>0.0</td>\n",
              "      <td>3.0</td>\n",
              "      <td>0.0</td>\n",
              "      <td>0.0</td>\n",
              "      <td>0.0</td>\n",
              "      <td>3.0</td>\n",
              "      <td>0.0</td>\n",
              "      <td>4.0</td>\n",
              "      <td>0.0</td>\n",
              "      <td>0.0</td>\n",
              "      <td>0.0</td>\n",
              "      <td>0.0</td>\n",
              "      <td>0.0</td>\n",
              "      <td>0.0</td>\n",
              "      <td>0.0</td>\n",
              "      <td>0.0</td>\n",
              "      <td>0.0</td>\n",
              "      <td>5.0</td>\n",
              "      <td>0.0</td>\n",
              "      <td>0.0</td>\n",
              "      <td>3.0</td>\n",
              "      <td>0.0</td>\n",
              "      <td>0.0</td>\n",
              "      <td>0.0</td>\n",
              "      <td>4.0</td>\n",
              "      <td>4.0</td>\n",
              "      <td>2.0</td>\n",
              "    </tr>\n",
              "  </tbody>\n",
              "</table>\n",
              "<p>2 rows × 7441 columns</p>\n",
              "</div>"
            ],
            "text/plain": [
              "userId   1      2      3      5      7      ...  12717  12718  12719  12720  12722\n",
              "movieId                                     ...                                   \n",
              "1          0.0    0.0    4.0    0.0    0.0  ...    0.0    4.0    0.0    5.0    3.0\n",
              "2          3.5    0.0    0.0    3.0    0.0  ...    0.0    0.0    4.0    4.0    2.0\n",
              "\n",
              "[2 rows x 7441 columns]"
            ]
          },
          "metadata": {
            "tags": []
          },
          "execution_count": 45
        }
      ]
    },
    {
      "cell_type": "code",
      "metadata": {
        "colab": {
          "base_uri": "https://localhost:8080/"
        },
        "id": "OiqDqZG1zELb",
        "outputId": "d34c552a-c9ab-4fc8-8d23-458e85d249ca"
      },
      "source": [
        "ratings_f2.shape"
      ],
      "execution_count": 47,
      "outputs": [
        {
          "output_type": "execute_result",
          "data": {
            "text/plain": [
              "(16479, 7441)"
            ]
          },
          "metadata": {
            "tags": []
          },
          "execution_count": 47
        }
      ]
    },
    {
      "cell_type": "code",
      "metadata": {
        "colab": {
          "base_uri": "https://localhost:8080/"
        },
        "id": "NuxENRyHzTyE",
        "outputId": "c93cb11e-96be-42f6-9ee0-eae29befd8ad"
      },
      "source": [
        "len(ratings_f.movieId.unique())"
      ],
      "execution_count": 48,
      "outputs": [
        {
          "output_type": "execute_result",
          "data": {
            "text/plain": [
              "16479"
            ]
          },
          "metadata": {
            "tags": []
          },
          "execution_count": 48
        }
      ]
    },
    {
      "cell_type": "code",
      "metadata": {
        "id": "RVito178zcRL"
      },
      "source": [
        "from sklearn.decomposition import TruncatedSVD\r\n",
        "svd = TruncatedSVD(n_components=200)\r\n",
        "latent_matrix_2 = svd.fit_transform(ratings_f2)\r\n",
        "latent_matrix_2_df = pd.DataFrame(latent_matrix_2,index=Final.title.tolist())"
      ],
      "execution_count": 49,
      "outputs": []
    },
    {
      "cell_type": "code",
      "metadata": {
        "colab": {
          "base_uri": "https://localhost:8080/"
        },
        "id": "79H2_3zzzklq",
        "outputId": "c4cb2d1a-c132-4160-b6da-bb80f541fb14"
      },
      "source": [
        "latent_matrix_2_df.shape"
      ],
      "execution_count": 50,
      "outputs": [
        {
          "output_type": "execute_result",
          "data": {
            "text/plain": [
              "(16479, 200)"
            ]
          },
          "metadata": {
            "tags": []
          },
          "execution_count": 50
        }
      ]
    },
    {
      "cell_type": "code",
      "metadata": {
        "colab": {
          "base_uri": "https://localhost:8080/",
          "height": 282
        },
        "id": "ZWsWWxEszy3e",
        "outputId": "d4d3051c-9bd3-433a-92f5-1a3cac2d0a3b"
      },
      "source": [
        "# plot variance expalined to see what latent dimensions to use\r\n",
        "explained = svd.explained_variance_ratio_.cumsum()\r\n",
        "plt.plot(explained, '.-', ms = 16, color='red')\r\n",
        "plt.xlabel('Singular value components', fontsize= 12)\r\n",
        "plt.ylabel('Cumulative percent of variance', fontsize=12)        \r\n",
        "plt.show()"
      ],
      "execution_count": 51,
      "outputs": [
        {
          "output_type": "display_data",
          "data": {
            "image/png": "[encoded data removed]",
            "text/plain": [
              "<Figure size 432x288 with 1 Axes>"
            ]
          },
          "metadata": {
            "tags": [],
            "needs_background": "light"
          }
        }
      ]
    },
    {
      "cell_type": "code",
      "metadata": {
        "colab": {
          "base_uri": "https://localhost:8080/",
          "height": 211
        },
        "id": "sMiMgRLMz2P0",
        "outputId": "cbbfcf40-44d0-494a-e7e8-0e1c31c669a6"
      },
      "source": [
        "latent_matrix_1_df.head(2)"
      ],
      "execution_count": 53,
      "outputs": [
        {
          "output_type": "execute_result",
          "data": {
            "text/html": [
              "<div>\n",
              "<style scoped>\n",
              "    .dataframe tbody tr th:only-of-type {\n",
              "        vertical-align: middle;\n",
              "    }\n",
              "\n",
              "    .dataframe tbody tr th {\n",
              "        vertical-align: top;\n",
              "    }\n",
              "\n",
              "    .dataframe thead th {\n",
              "        text-align: right;\n",
              "    }\n",
              "</style>\n",
              "<table border=\"1\" class=\"dataframe\">\n",
              "  <thead>\n",
              "    <tr style=\"text-align: right;\">\n",
              "      <th></th>\n",
              "      <th>0</th>\n",
              "      <th>1</th>\n",
              "      <th>2</th>\n",
              "      <th>3</th>\n",
              "      <th>4</th>\n",
              "      <th>5</th>\n",
              "      <th>6</th>\n",
              "      <th>7</th>\n",
              "      <th>8</th>\n",
              "      <th>9</th>\n",
              "      <th>10</th>\n",
              "      <th>11</th>\n",
              "      <th>12</th>\n",
              "      <th>13</th>\n",
              "      <th>14</th>\n",
              "      <th>15</th>\n",
              "      <th>16</th>\n",
              "      <th>17</th>\n",
              "      <th>18</th>\n",
              "      <th>19</th>\n",
              "      <th>20</th>\n",
              "      <th>21</th>\n",
              "      <th>22</th>\n",
              "      <th>23</th>\n",
              "      <th>24</th>\n",
              "      <th>25</th>\n",
              "      <th>26</th>\n",
              "      <th>27</th>\n",
              "      <th>28</th>\n",
              "      <th>29</th>\n",
              "      <th>30</th>\n",
              "      <th>31</th>\n",
              "      <th>32</th>\n",
              "      <th>33</th>\n",
              "      <th>34</th>\n",
              "      <th>35</th>\n",
              "      <th>36</th>\n",
              "      <th>37</th>\n",
              "      <th>38</th>\n",
              "      <th>39</th>\n",
              "      <th>...</th>\n",
              "      <th>160</th>\n",
              "      <th>161</th>\n",
              "      <th>162</th>\n",
              "      <th>163</th>\n",
              "      <th>164</th>\n",
              "      <th>165</th>\n",
              "      <th>166</th>\n",
              "      <th>167</th>\n",
              "      <th>168</th>\n",
              "      <th>169</th>\n",
              "      <th>170</th>\n",
              "      <th>171</th>\n",
              "      <th>172</th>\n",
              "      <th>173</th>\n",
              "      <th>174</th>\n",
              "      <th>175</th>\n",
              "      <th>176</th>\n",
              "      <th>177</th>\n",
              "      <th>178</th>\n",
              "      <th>179</th>\n",
              "      <th>180</th>\n",
              "      <th>181</th>\n",
              "      <th>182</th>\n",
              "      <th>183</th>\n",
              "      <th>184</th>\n",
              "      <th>185</th>\n",
              "      <th>186</th>\n",
              "      <th>187</th>\n",
              "      <th>188</th>\n",
              "      <th>189</th>\n",
              "      <th>190</th>\n",
              "      <th>191</th>\n",
              "      <th>192</th>\n",
              "      <th>193</th>\n",
              "      <th>194</th>\n",
              "      <th>195</th>\n",
              "      <th>196</th>\n",
              "      <th>197</th>\n",
              "      <th>198</th>\n",
              "      <th>199</th>\n",
              "    </tr>\n",
              "  </thead>\n",
              "  <tbody>\n",
              "    <tr>\n",
              "      <th>Toy Story (1995)</th>\n",
              "      <td>0.036071</td>\n",
              "      <td>0.056222</td>\n",
              "      <td>0.022826</td>\n",
              "      <td>0.010710</td>\n",
              "      <td>0.014805</td>\n",
              "      <td>0.037847</td>\n",
              "      <td>0.019743</td>\n",
              "      <td>0.157266</td>\n",
              "      <td>0.002189</td>\n",
              "      <td>-0.001866</td>\n",
              "      <td>0.020170</td>\n",
              "      <td>-0.193205</td>\n",
              "      <td>0.210724</td>\n",
              "      <td>-0.104091</td>\n",
              "      <td>0.037804</td>\n",
              "      <td>-0.067183</td>\n",
              "      <td>-0.075430</td>\n",
              "      <td>-0.039784</td>\n",
              "      <td>0.008555</td>\n",
              "      <td>-0.025506</td>\n",
              "      <td>0.118818</td>\n",
              "      <td>-0.297442</td>\n",
              "      <td>0.000270</td>\n",
              "      <td>0.038065</td>\n",
              "      <td>-0.042269</td>\n",
              "      <td>-0.272353</td>\n",
              "      <td>-0.015820</td>\n",
              "      <td>-0.000149</td>\n",
              "      <td>0.034039</td>\n",
              "      <td>-0.021600</td>\n",
              "      <td>-0.006169</td>\n",
              "      <td>-0.013932</td>\n",
              "      <td>-0.008111</td>\n",
              "      <td>-0.030840</td>\n",
              "      <td>0.037354</td>\n",
              "      <td>0.017003</td>\n",
              "      <td>0.069037</td>\n",
              "      <td>-0.028461</td>\n",
              "      <td>-0.004253</td>\n",
              "      <td>-0.063208</td>\n",
              "      <td>...</td>\n",
              "      <td>-0.029623</td>\n",
              "      <td>0.005576</td>\n",
              "      <td>0.053797</td>\n",
              "      <td>-0.029259</td>\n",
              "      <td>0.016005</td>\n",
              "      <td>0.053320</td>\n",
              "      <td>0.037623</td>\n",
              "      <td>0.024344</td>\n",
              "      <td>0.017253</td>\n",
              "      <td>-0.024211</td>\n",
              "      <td>0.014132</td>\n",
              "      <td>-0.051650</td>\n",
              "      <td>0.013343</td>\n",
              "      <td>-0.006564</td>\n",
              "      <td>-0.014941</td>\n",
              "      <td>-0.040011</td>\n",
              "      <td>-0.055876</td>\n",
              "      <td>0.030125</td>\n",
              "      <td>0.019939</td>\n",
              "      <td>-0.004654</td>\n",
              "      <td>0.021688</td>\n",
              "      <td>0.001812</td>\n",
              "      <td>0.030979</td>\n",
              "      <td>-0.056825</td>\n",
              "      <td>-0.011139</td>\n",
              "      <td>-0.010404</td>\n",
              "      <td>-0.025063</td>\n",
              "      <td>0.048201</td>\n",
              "      <td>0.018556</td>\n",
              "      <td>0.026365</td>\n",
              "      <td>0.069638</td>\n",
              "      <td>-0.002615</td>\n",
              "      <td>-0.032338</td>\n",
              "      <td>0.002834</td>\n",
              "      <td>0.090364</td>\n",
              "      <td>0.061234</td>\n",
              "      <td>-0.026927</td>\n",
              "      <td>0.006585</td>\n",
              "      <td>-0.101294</td>\n",
              "      <td>0.013002</td>\n",
              "    </tr>\n",
              "    <tr>\n",
              "      <th>Jumanji (1995)</th>\n",
              "      <td>0.016446</td>\n",
              "      <td>0.013510</td>\n",
              "      <td>0.035501</td>\n",
              "      <td>0.018349</td>\n",
              "      <td>0.006450</td>\n",
              "      <td>0.008880</td>\n",
              "      <td>0.020190</td>\n",
              "      <td>0.100256</td>\n",
              "      <td>-0.000589</td>\n",
              "      <td>0.003873</td>\n",
              "      <td>0.012178</td>\n",
              "      <td>-0.107869</td>\n",
              "      <td>0.079077</td>\n",
              "      <td>-0.040341</td>\n",
              "      <td>0.030783</td>\n",
              "      <td>-0.024637</td>\n",
              "      <td>-0.006185</td>\n",
              "      <td>-0.019870</td>\n",
              "      <td>0.095274</td>\n",
              "      <td>-0.036055</td>\n",
              "      <td>-0.038906</td>\n",
              "      <td>0.027230</td>\n",
              "      <td>0.126134</td>\n",
              "      <td>0.027349</td>\n",
              "      <td>-0.004520</td>\n",
              "      <td>0.064984</td>\n",
              "      <td>0.001869</td>\n",
              "      <td>-0.024595</td>\n",
              "      <td>0.027275</td>\n",
              "      <td>-0.006463</td>\n",
              "      <td>0.004022</td>\n",
              "      <td>-0.066015</td>\n",
              "      <td>-0.048345</td>\n",
              "      <td>-0.098601</td>\n",
              "      <td>-0.007166</td>\n",
              "      <td>0.177721</td>\n",
              "      <td>0.156969</td>\n",
              "      <td>0.029363</td>\n",
              "      <td>0.068867</td>\n",
              "      <td>-0.083014</td>\n",
              "      <td>...</td>\n",
              "      <td>-0.037676</td>\n",
              "      <td>0.056484</td>\n",
              "      <td>-0.071476</td>\n",
              "      <td>0.050386</td>\n",
              "      <td>-0.002327</td>\n",
              "      <td>0.067162</td>\n",
              "      <td>0.012279</td>\n",
              "      <td>0.040853</td>\n",
              "      <td>-0.098693</td>\n",
              "      <td>-0.037479</td>\n",
              "      <td>0.043529</td>\n",
              "      <td>0.039504</td>\n",
              "      <td>-0.025396</td>\n",
              "      <td>0.027096</td>\n",
              "      <td>-0.012929</td>\n",
              "      <td>0.033655</td>\n",
              "      <td>-0.015648</td>\n",
              "      <td>-0.003824</td>\n",
              "      <td>0.020956</td>\n",
              "      <td>0.017593</td>\n",
              "      <td>-0.000901</td>\n",
              "      <td>0.004994</td>\n",
              "      <td>-0.017710</td>\n",
              "      <td>-0.013598</td>\n",
              "      <td>0.007609</td>\n",
              "      <td>0.057900</td>\n",
              "      <td>-0.025667</td>\n",
              "      <td>0.041416</td>\n",
              "      <td>-0.003501</td>\n",
              "      <td>0.045766</td>\n",
              "      <td>-0.026748</td>\n",
              "      <td>-0.019024</td>\n",
              "      <td>-0.027964</td>\n",
              "      <td>-0.017987</td>\n",
              "      <td>0.010202</td>\n",
              "      <td>-0.020676</td>\n",
              "      <td>-0.025974</td>\n",
              "      <td>-0.011637</td>\n",
              "      <td>-0.012603</td>\n",
              "      <td>-0.010457</td>\n",
              "    </tr>\n",
              "  </tbody>\n",
              "</table>\n",
              "<p>2 rows × 200 columns</p>\n",
              "</div>"
            ],
            "text/plain": [
              "                       0         1         2    ...       197       198       199\n",
              "Toy Story (1995)  0.036071  0.056222  0.022826  ...  0.006585 -0.101294  0.013002\n",
              "Jumanji (1995)    0.016446  0.013510  0.035501  ... -0.011637 -0.012603 -0.010457\n",
              "\n",
              "[2 rows x 200 columns]"
            ]
          },
          "metadata": {
            "tags": []
          },
          "execution_count": 53
        }
      ]
    },
    {
      "cell_type": "code",
      "metadata": {
        "colab": {
          "base_uri": "https://localhost:8080/",
          "height": 211
        },
        "id": "13U9Mfepz6yv",
        "outputId": "e6a8b617-4487-4a72-dd36-0ba565c972a8"
      },
      "source": [
        "latent_matrix_2_df.head(2)"
      ],
      "execution_count": 54,
      "outputs": [
        {
          "output_type": "execute_result",
          "data": {
            "text/html": [
              "<div>\n",
              "<style scoped>\n",
              "    .dataframe tbody tr th:only-of-type {\n",
              "        vertical-align: middle;\n",
              "    }\n",
              "\n",
              "    .dataframe tbody tr th {\n",
              "        vertical-align: top;\n",
              "    }\n",
              "\n",
              "    .dataframe thead th {\n",
              "        text-align: right;\n",
              "    }\n",
              "</style>\n",
              "<table border=\"1\" class=\"dataframe\">\n",
              "  <thead>\n",
              "    <tr style=\"text-align: right;\">\n",
              "      <th></th>\n",
              "      <th>0</th>\n",
              "      <th>1</th>\n",
              "      <th>2</th>\n",
              "      <th>3</th>\n",
              "      <th>4</th>\n",
              "      <th>5</th>\n",
              "      <th>6</th>\n",
              "      <th>7</th>\n",
              "      <th>8</th>\n",
              "      <th>9</th>\n",
              "      <th>10</th>\n",
              "      <th>11</th>\n",
              "      <th>12</th>\n",
              "      <th>13</th>\n",
              "      <th>14</th>\n",
              "      <th>15</th>\n",
              "      <th>16</th>\n",
              "      <th>17</th>\n",
              "      <th>18</th>\n",
              "      <th>19</th>\n",
              "      <th>20</th>\n",
              "      <th>21</th>\n",
              "      <th>22</th>\n",
              "      <th>23</th>\n",
              "      <th>24</th>\n",
              "      <th>25</th>\n",
              "      <th>26</th>\n",
              "      <th>27</th>\n",
              "      <th>28</th>\n",
              "      <th>29</th>\n",
              "      <th>30</th>\n",
              "      <th>31</th>\n",
              "      <th>32</th>\n",
              "      <th>33</th>\n",
              "      <th>34</th>\n",
              "      <th>35</th>\n",
              "      <th>36</th>\n",
              "      <th>37</th>\n",
              "      <th>38</th>\n",
              "      <th>39</th>\n",
              "      <th>...</th>\n",
              "      <th>160</th>\n",
              "      <th>161</th>\n",
              "      <th>162</th>\n",
              "      <th>163</th>\n",
              "      <th>164</th>\n",
              "      <th>165</th>\n",
              "      <th>166</th>\n",
              "      <th>167</th>\n",
              "      <th>168</th>\n",
              "      <th>169</th>\n",
              "      <th>170</th>\n",
              "      <th>171</th>\n",
              "      <th>172</th>\n",
              "      <th>173</th>\n",
              "      <th>174</th>\n",
              "      <th>175</th>\n",
              "      <th>176</th>\n",
              "      <th>177</th>\n",
              "      <th>178</th>\n",
              "      <th>179</th>\n",
              "      <th>180</th>\n",
              "      <th>181</th>\n",
              "      <th>182</th>\n",
              "      <th>183</th>\n",
              "      <th>184</th>\n",
              "      <th>185</th>\n",
              "      <th>186</th>\n",
              "      <th>187</th>\n",
              "      <th>188</th>\n",
              "      <th>189</th>\n",
              "      <th>190</th>\n",
              "      <th>191</th>\n",
              "      <th>192</th>\n",
              "      <th>193</th>\n",
              "      <th>194</th>\n",
              "      <th>195</th>\n",
              "      <th>196</th>\n",
              "      <th>197</th>\n",
              "      <th>198</th>\n",
              "      <th>199</th>\n",
              "    </tr>\n",
              "  </thead>\n",
              "  <tbody>\n",
              "    <tr>\n",
              "      <th>Toy Story (1995)</th>\n",
              "      <td>172.843624</td>\n",
              "      <td>0.122888</td>\n",
              "      <td>46.198511</td>\n",
              "      <td>20.058670</td>\n",
              "      <td>5.715030</td>\n",
              "      <td>47.651960</td>\n",
              "      <td>-19.194648</td>\n",
              "      <td>18.730150</td>\n",
              "      <td>-18.133594</td>\n",
              "      <td>-5.33206</td>\n",
              "      <td>1.699015</td>\n",
              "      <td>10.329319</td>\n",
              "      <td>-29.414955</td>\n",
              "      <td>7.638080</td>\n",
              "      <td>11.172903</td>\n",
              "      <td>10.560694</td>\n",
              "      <td>1.058837</td>\n",
              "      <td>38.365497</td>\n",
              "      <td>-9.940576</td>\n",
              "      <td>4.087586</td>\n",
              "      <td>23.903630</td>\n",
              "      <td>22.687832</td>\n",
              "      <td>21.354039</td>\n",
              "      <td>14.311353</td>\n",
              "      <td>-13.343493</td>\n",
              "      <td>-18.025798</td>\n",
              "      <td>15.168503</td>\n",
              "      <td>6.310644</td>\n",
              "      <td>-4.214365</td>\n",
              "      <td>-5.315240</td>\n",
              "      <td>7.891713</td>\n",
              "      <td>-5.988961</td>\n",
              "      <td>15.091094</td>\n",
              "      <td>-18.708143</td>\n",
              "      <td>14.785802</td>\n",
              "      <td>-9.629416</td>\n",
              "      <td>11.045787</td>\n",
              "      <td>25.162538</td>\n",
              "      <td>16.448865</td>\n",
              "      <td>8.124673</td>\n",
              "      <td>...</td>\n",
              "      <td>7.854280</td>\n",
              "      <td>5.468163</td>\n",
              "      <td>-5.963140</td>\n",
              "      <td>1.063812</td>\n",
              "      <td>0.605438</td>\n",
              "      <td>-3.715925</td>\n",
              "      <td>-0.799174</td>\n",
              "      <td>-11.286953</td>\n",
              "      <td>-4.256728</td>\n",
              "      <td>5.879606</td>\n",
              "      <td>-4.381676</td>\n",
              "      <td>-2.306119</td>\n",
              "      <td>-5.395288</td>\n",
              "      <td>-2.789434</td>\n",
              "      <td>2.398263</td>\n",
              "      <td>-2.595731</td>\n",
              "      <td>9.440629</td>\n",
              "      <td>0.824382</td>\n",
              "      <td>1.739494</td>\n",
              "      <td>-5.392704</td>\n",
              "      <td>-0.190036</td>\n",
              "      <td>-0.756822</td>\n",
              "      <td>0.594496</td>\n",
              "      <td>-4.195026</td>\n",
              "      <td>10.520528</td>\n",
              "      <td>-3.160609</td>\n",
              "      <td>-2.102377</td>\n",
              "      <td>5.821405</td>\n",
              "      <td>4.907099</td>\n",
              "      <td>2.607980</td>\n",
              "      <td>-6.582353</td>\n",
              "      <td>1.240953</td>\n",
              "      <td>-1.982341</td>\n",
              "      <td>-3.808108</td>\n",
              "      <td>6.361418</td>\n",
              "      <td>5.192985</td>\n",
              "      <td>-4.689182</td>\n",
              "      <td>-2.359457</td>\n",
              "      <td>3.868690</td>\n",
              "      <td>-0.999899</td>\n",
              "    </tr>\n",
              "    <tr>\n",
              "      <th>Jumanji (1995)</th>\n",
              "      <td>79.057356</td>\n",
              "      <td>1.422486</td>\n",
              "      <td>48.863948</td>\n",
              "      <td>-16.856374</td>\n",
              "      <td>-12.460965</td>\n",
              "      <td>5.329509</td>\n",
              "      <td>-19.999752</td>\n",
              "      <td>13.280174</td>\n",
              "      <td>3.164447</td>\n",
              "      <td>4.13461</td>\n",
              "      <td>10.739529</td>\n",
              "      <td>6.070193</td>\n",
              "      <td>7.981303</td>\n",
              "      <td>-16.761926</td>\n",
              "      <td>3.301039</td>\n",
              "      <td>2.372827</td>\n",
              "      <td>4.976617</td>\n",
              "      <td>4.786386</td>\n",
              "      <td>-13.264474</td>\n",
              "      <td>-0.547616</td>\n",
              "      <td>3.380431</td>\n",
              "      <td>-8.256898</td>\n",
              "      <td>1.790500</td>\n",
              "      <td>1.537820</td>\n",
              "      <td>-1.577315</td>\n",
              "      <td>-8.438957</td>\n",
              "      <td>0.024640</td>\n",
              "      <td>-7.096468</td>\n",
              "      <td>-3.626270</td>\n",
              "      <td>-7.954789</td>\n",
              "      <td>-1.223914</td>\n",
              "      <td>2.476704</td>\n",
              "      <td>4.374677</td>\n",
              "      <td>-2.349104</td>\n",
              "      <td>-13.334368</td>\n",
              "      <td>3.710491</td>\n",
              "      <td>3.929164</td>\n",
              "      <td>4.849065</td>\n",
              "      <td>2.675219</td>\n",
              "      <td>-4.101131</td>\n",
              "      <td>...</td>\n",
              "      <td>8.464764</td>\n",
              "      <td>1.604966</td>\n",
              "      <td>2.146902</td>\n",
              "      <td>-0.486648</td>\n",
              "      <td>0.591596</td>\n",
              "      <td>4.753055</td>\n",
              "      <td>6.448002</td>\n",
              "      <td>0.606960</td>\n",
              "      <td>-8.068707</td>\n",
              "      <td>-6.689915</td>\n",
              "      <td>6.678279</td>\n",
              "      <td>-8.354061</td>\n",
              "      <td>-2.051758</td>\n",
              "      <td>-0.257639</td>\n",
              "      <td>5.177505</td>\n",
              "      <td>-10.087467</td>\n",
              "      <td>7.979151</td>\n",
              "      <td>2.715679</td>\n",
              "      <td>1.812356</td>\n",
              "      <td>1.907803</td>\n",
              "      <td>1.678550</td>\n",
              "      <td>1.293009</td>\n",
              "      <td>-1.185842</td>\n",
              "      <td>-6.011018</td>\n",
              "      <td>-2.403664</td>\n",
              "      <td>5.993981</td>\n",
              "      <td>-0.056213</td>\n",
              "      <td>-8.447140</td>\n",
              "      <td>8.501207</td>\n",
              "      <td>5.112543</td>\n",
              "      <td>1.662624</td>\n",
              "      <td>0.628105</td>\n",
              "      <td>-0.333096</td>\n",
              "      <td>3.926561</td>\n",
              "      <td>-9.770134</td>\n",
              "      <td>-3.355255</td>\n",
              "      <td>-1.947698</td>\n",
              "      <td>-1.342267</td>\n",
              "      <td>3.731208</td>\n",
              "      <td>2.045424</td>\n",
              "    </tr>\n",
              "  </tbody>\n",
              "</table>\n",
              "<p>2 rows × 200 columns</p>\n",
              "</div>"
            ],
            "text/plain": [
              "                         0         1          2    ...       197       198       199\n",
              "Toy Story (1995)  172.843624  0.122888  46.198511  ... -2.359457  3.868690 -0.999899\n",
              "Jumanji (1995)     79.057356  1.422486  48.863948  ... -1.342267  3.731208  2.045424\n",
              "\n",
              "[2 rows x 200 columns]"
            ]
          },
          "metadata": {
            "tags": []
          },
          "execution_count": 54
        }
      ]
    },
    {
      "cell_type": "markdown",
      "metadata": {
        "id": "JrthlZXzz_1Y"
      },
      "source": [
        "# Running a content / collaborative and hybrid cosine Similarity:"
      ]
    },
    {
      "cell_type": "code",
      "metadata": {
        "colab": {
          "base_uri": "https://localhost:8080/",
          "height": 390
        },
        "id": "qCHMIrirz_bF",
        "outputId": "74d19336-824d-4c31-cb59-74c1459ef730"
      },
      "source": [
        "from sklearn.metrics.pairwise import cosine_similarity\r\n",
        "# take the latent vectors for a selected movie from both content \r\n",
        "# and collaborative matrixes\r\n",
        "a_1 = np.array(latent_matrix_1_df.loc['Toy Story (1995)']).reshape(1, -1)\r\n",
        "a_2 = np.array(latent_matrix_2_df.loc['Toy Story (1995)']).reshape(1, -1)\r\n",
        "\r\n",
        "# calculate the similartity of this movie with the others in the list\r\n",
        "score_1 = cosine_similarity(latent_matrix_1_df, a_1).reshape(-1)\r\n",
        "score_2 = cosine_similarity(latent_matrix_2_df, a_2).reshape(-1)\r\n",
        "\r\n",
        "# an average measure of both content and collaborative \r\n",
        "hybrid = ((score_1 + score_2)/2.0)\r\n",
        "\r\n",
        "# form a data frame of similar movies \r\n",
        "dictDf = {'content': score_1 , 'collaborative': score_2, 'hybrid': hybrid} \r\n",
        "similar = pd.DataFrame(dictDf, index = latent_matrix_1_df.index )\r\n",
        "\r\n",
        "#sort it on the basis of either: content, collaborative or hybrid, \r\n",
        "# here : content\r\n",
        "similar.sort_values('hybrid', ascending=False, inplace=True)\r\n",
        "\r\n",
        "similar[1:].head(11)"
      ],
      "execution_count": 55,
      "outputs": [
        {
          "output_type": "execute_result",
          "data": {
            "text/html": [
              "<div>\n",
              "<style scoped>\n",
              "    .dataframe tbody tr th:only-of-type {\n",
              "        vertical-align: middle;\n",
              "    }\n",
              "\n",
              "    .dataframe tbody tr th {\n",
              "        vertical-align: top;\n",
              "    }\n",
              "\n",
              "    .dataframe thead th {\n",
              "        text-align: right;\n",
              "    }\n",
              "</style>\n",
              "<table border=\"1\" class=\"dataframe\">\n",
              "  <thead>\n",
              "    <tr style=\"text-align: right;\">\n",
              "      <th></th>\n",
              "      <th>content</th>\n",
              "      <th>collaborative</th>\n",
              "      <th>hybrid</th>\n",
              "    </tr>\n",
              "  </thead>\n",
              "  <tbody>\n",
              "    <tr>\n",
              "      <th>Toy Story 2 (1999)</th>\n",
              "      <td>0.962383</td>\n",
              "      <td>0.730271</td>\n",
              "      <td>0.846327</td>\n",
              "    </tr>\n",
              "    <tr>\n",
              "      <th>Bug's Life, A (1998)</th>\n",
              "      <td>0.905950</td>\n",
              "      <td>0.649217</td>\n",
              "      <td>0.777584</td>\n",
              "    </tr>\n",
              "    <tr>\n",
              "      <th>Monsters, Inc. (2001)</th>\n",
              "      <td>0.883367</td>\n",
              "      <td>0.613576</td>\n",
              "      <td>0.748471</td>\n",
              "    </tr>\n",
              "    <tr>\n",
              "      <th>Finding Nemo (2003)</th>\n",
              "      <td>0.877212</td>\n",
              "      <td>0.598285</td>\n",
              "      <td>0.737749</td>\n",
              "    </tr>\n",
              "    <tr>\n",
              "      <th>Incredibles, The (2004)</th>\n",
              "      <td>0.785848</td>\n",
              "      <td>0.565448</td>\n",
              "      <td>0.675648</td>\n",
              "    </tr>\n",
              "    <tr>\n",
              "      <th>Ice Age (2002)</th>\n",
              "      <td>0.876382</td>\n",
              "      <td>0.462006</td>\n",
              "      <td>0.669194</td>\n",
              "    </tr>\n",
              "    <tr>\n",
              "      <th>Ratatouille (2007)</th>\n",
              "      <td>0.896259</td>\n",
              "      <td>0.404617</td>\n",
              "      <td>0.650438</td>\n",
              "    </tr>\n",
              "    <tr>\n",
              "      <th>Antz (1998)</th>\n",
              "      <td>0.743474</td>\n",
              "      <td>0.539483</td>\n",
              "      <td>0.641478</td>\n",
              "    </tr>\n",
              "    <tr>\n",
              "      <th>Toy Story 3 (2010)</th>\n",
              "      <td>0.852141</td>\n",
              "      <td>0.402003</td>\n",
              "      <td>0.627072</td>\n",
              "    </tr>\n",
              "    <tr>\n",
              "      <th>Shrek (2001)</th>\n",
              "      <td>0.590506</td>\n",
              "      <td>0.616892</td>\n",
              "      <td>0.603699</td>\n",
              "    </tr>\n",
              "    <tr>\n",
              "      <th>Lion King, The (1994)</th>\n",
              "      <td>0.449642</td>\n",
              "      <td>0.678440</td>\n",
              "      <td>0.564041</td>\n",
              "    </tr>\n",
              "  </tbody>\n",
              "</table>\n",
              "</div>"
            ],
            "text/plain": [
              "                          content  collaborative    hybrid\n",
              "Toy Story 2 (1999)       0.962383       0.730271  0.846327\n",
              "Bug's Life, A (1998)     0.905950       0.649217  0.777584\n",
              "Monsters, Inc. (2001)    0.883367       0.613576  0.748471\n",
              "Finding Nemo (2003)      0.877212       0.598285  0.737749\n",
              "Incredibles, The (2004)  0.785848       0.565448  0.675648\n",
              "Ice Age (2002)           0.876382       0.462006  0.669194\n",
              "Ratatouille (2007)       0.896259       0.404617  0.650438\n",
              "Antz (1998)              0.743474       0.539483  0.641478\n",
              "Toy Story 3 (2010)       0.852141       0.402003  0.627072\n",
              "Shrek (2001)             0.590506       0.616892  0.603699\n",
              "Lion King, The (1994)    0.449642       0.678440  0.564041"
            ]
          },
          "metadata": {
            "tags": []
          },
          "execution_count": 55
        }
      ]
    },
    {
      "cell_type": "markdown",
      "metadata": {
        "id": "0VE2uM-60RaZ"
      },
      "source": [
        "We could use the similarity information we gained from item-item collaborative filtering to compute a rating prediction,𝑟[i][u], for an item (𝑖) by a user (𝑢) where the rating is missing. Namely by taking a weighted average on the rating values of the top K nearest neighbours of item (𝑖)."
      ]
    }
  ]
}