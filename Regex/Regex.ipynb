{
 "cells": [
  {
   "cell_type": "code",
   "execution_count": null,
   "id": "hazardous-profile",
   "metadata": {},
   "outputs": [],
   "source": [
    ".       - Any Character Except New Line\n",
    "\\d      - Digit (0-9)\n",
    "\\D      - Not a Digit (0-9)\n",
    "\\w      - Word Character (a-z, A-Z, 0-9, _)\n",
    "\\W      - Not a Word Character\n",
    "\\s      - Whitespace (space, tab, newline)\n",
    "\\S      - Not Whitespace (space, tab, newline)\n",
    "\n",
    "\\b      - Word Boundary\n",
    "\\B      - Not a Word Boundary\n",
    "^       - Beginning of a String\n",
    "$       - End of a String\n",
    "\n",
    "[]      - Matches Characters in brackets\n",
    "[^ ]    - Matches Characters NOT in brackets\n",
    "|       - Either Or\n",
    "( )     - Group\n",
    "\n",
    "Quantifiers:\n",
    "*       - 0 or More\n",
    "+       - 1 or More\n",
    "?       - 0 or One\n",
    "{3}     - Exact Number\n",
    "{3,4}   - Range of Numbers (Minimum, Maximum)\n",
    "\n",
    "\n",
    "#### Sample Regexs ####\n",
    "\n",
    "[a-zA-Z0-9_.+-]+@[a-zA-Z0-9-]+\\.[a-zA-Z0-9-.]+"
   ]
  },
  {
   "cell_type": "code",
   "execution_count": 24,
   "id": "chronic-margin",
   "metadata": {},
   "outputs": [],
   "source": [
    "import re\n",
    "\n",
    "text_to_search = '''\n",
    "abcdefghijklmnopqurtuvwxyz\n",
    "ABCDEFGHIJKLMNOPQRSTUVWXYZ\n",
    "1234567890\n",
    "\n",
    "Ha HaHa\n",
    "\n",
    "MetaCharacters (Need to be escaped):\n",
    ". ^ $ * + ? { } [ ] \\ | ( )\n",
    "\n",
    "coreyms.com\n",
    "\n",
    "321-555-4321\n",
    "123.555.1234\n",
    "350*555*1234\n",
    "800.555.1234\n",
    "900.555.1234\n",
    "\n",
    "Mr. Schafer\n",
    "Mr Smith\n",
    "Ms Davis\n",
    "Mrs. Robinson\n",
    "Mr. T\n",
    "\n",
    "cat\n",
    "bat\n",
    "pat\n",
    "mat\n",
    "\n",
    "'''\n",
    "sentence = 'Start a sentence and then bring it to an end'\n"
   ]
  },
  {
   "cell_type": "code",
   "execution_count": 3,
   "id": "bored-lincoln",
   "metadata": {},
   "outputs": [
    {
     "name": "stdout",
     "output_type": "stream",
     "text": [
      "\tTab\n"
     ]
    }
   ],
   "source": [
    "print('\\tTab')"
   ]
  },
  {
   "cell_type": "code",
   "execution_count": 4,
   "id": "impaired-fields",
   "metadata": {},
   "outputs": [
    {
     "name": "stdout",
     "output_type": "stream",
     "text": [
      "\\tTab\n"
     ]
    }
   ],
   "source": [
    "print(r'\\tTab') #raw strings"
   ]
  },
  {
   "cell_type": "code",
   "execution_count": 5,
   "id": "adolescent-shanghai",
   "metadata": {},
   "outputs": [
    {
     "name": "stdout",
     "output_type": "stream",
     "text": [
      "<re.Match object; span=(1, 4), match='abc'>\n"
     ]
    }
   ],
   "source": [
    "pattern = re.compile(r'abc')\n",
    "\n",
    "matches = pattern.finditer(text_to_search)\n",
    "\n",
    "for match in matches:\n",
    "    print(match)"
   ]
  },
  {
   "cell_type": "code",
   "execution_count": 6,
   "id": "apparent-belly",
   "metadata": {},
   "outputs": [
    {
     "name": "stdout",
     "output_type": "stream",
     "text": [
      "abc\n"
     ]
    }
   ],
   "source": [
    "print(text_to_search[1:4])"
   ]
  },
  {
   "cell_type": "code",
   "execution_count": 7,
   "id": "green-doctor",
   "metadata": {},
   "outputs": [
    {
     "name": "stdout",
     "output_type": "stream",
     "text": [
      "<re.Match object; span=(142, 153), match='coreyms.com'>\n"
     ]
    }
   ],
   "source": [
    "pattern = re.compile(r'coreyms\\.com') #\\. if there is . in sentence\n",
    "\n",
    "matches = pattern.finditer(text_to_search)\n",
    "\n",
    "for match in matches:\n",
    "    print(match)"
   ]
  },
  {
   "cell_type": "code",
   "execution_count": 9,
   "id": "competitive-boxing",
   "metadata": {},
   "outputs": [
    {
     "name": "stdout",
     "output_type": "stream",
     "text": [
      "<re.Match object; span=(72, 74), match='Ha'>\n"
     ]
    }
   ],
   "source": [
    "pattern = re.compile(r'\\BHa') #ha without space\n",
    "\n",
    "matches = pattern.finditer(text_to_search)\n",
    "\n",
    "for match in matches:\n",
    "    print(match)"
   ]
  },
  {
   "cell_type": "code",
   "execution_count": 10,
   "id": "arctic-tanzania",
   "metadata": {},
   "outputs": [
    {
     "name": "stdout",
     "output_type": "stream",
     "text": [
      "<re.Match object; span=(0, 5), match='Start'>\n"
     ]
    }
   ],
   "source": [
    "pattern = re.compile(r'^Start') #ha without space\n",
    "\n",
    "matches = pattern.finditer(sentence)\n",
    "\n",
    "for match in matches:\n",
    "    print(match)"
   ]
  },
  {
   "cell_type": "code",
   "execution_count": 11,
   "id": "asian-procurement",
   "metadata": {},
   "outputs": [
    {
     "name": "stdout",
     "output_type": "stream",
     "text": [
      "<re.Match object; span=(41, 44), match='end'>\n"
     ]
    }
   ],
   "source": [
    "pattern = re.compile(r'end$') #ha without space\n",
    "\n",
    "matches = pattern.finditer(sentence)\n",
    "\n",
    "for match in matches:\n",
    "    print(match)"
   ]
  },
  {
   "cell_type": "code",
   "execution_count": 12,
   "id": "affiliated-actress",
   "metadata": {},
   "outputs": [
    {
     "name": "stdout",
     "output_type": "stream",
     "text": [
      "<re.Match object; span=(155, 166), match='321-555-432'>\n",
      "<re.Match object; span=(168, 179), match='123.555.123'>\n"
     ]
    }
   ],
   "source": [
    "pattern = re.compile(r'\\d\\d\\d.\\d\\d\\d.\\d\\d\\d') #search phone number\n",
    "\n",
    "matches = pattern.finditer(text_to_search)\n",
    "\n",
    "for match in matches:\n",
    "    print(match)"
   ]
  },
  {
   "cell_type": "markdown",
   "id": "after-stock",
   "metadata": {},
   "source": [
    "# New"
   ]
  },
  {
   "cell_type": "code",
   "execution_count": 15,
   "id": "useful-bundle",
   "metadata": {},
   "outputs": [],
   "source": [
    "with open('data.txt','r',encoding = 'utf-8') as f:\n",
    "    contents = f.read()"
   ]
  },
  {
   "cell_type": "code",
   "execution_count": 16,
   "id": "moderate-corruption",
   "metadata": {},
   "outputs": [
    {
     "name": "stdout",
     "output_type": "stream",
     "text": [
      "Dave Martin\n",
      "615-555-7164\n",
      "173 Main St., Springfield RI 55924\n",
      "davemartin@bogusemail.com\n",
      "\n",
      "Charles Harris\n",
      "800-555-5669\n",
      "969 High St., Atlantis VA 34075\n",
      "charlesharris@bogusemail.com\n",
      "\n",
      "Eric Williams\n",
      "560-555-5153\n",
      "806 1st St., Faketown AK 86847\n",
      "laurawilliams@bogusemail.com\n",
      "\n",
      "Corey Jefferson\n",
      "900-555-9340\n",
      "826 Elm St., Epicburg NE 10671\n",
      "coreyjefferson@bogusemail.com\n",
      "\n",
      "Jennifer Martin-White\n",
      "714-555-7405\n",
      "212 Cedar St., Sunnydale CT 74983\n",
      "jenniferwhite@bogusemail.com\n",
      "\n",
      "Erick Davis\n",
      "800-555-6771\n",
      "519 Washington St., Olympus TN 32425\n",
      "tomdavis@bogusemail.com\n",
      "\n",
      "Neil Patterson\n",
      "783-555-4799\n",
      "625 Oak St., Dawnstar IL 61914\n",
      "neilpatterson@bogusemail.com\n",
      "\n",
      "Laura Jefferson\n",
      "516-555-4615\n",
      "890 Main St., Pythonville LA 29947\n",
      "laurajefferson@bogusemail.com\n",
      "\n",
      "Maria Johnson\n",
      "127-555-1867\n",
      "884 High St., Braavos‎ ME 43597\n",
      "mariajohnson@bogusemail.com\n",
      "\n",
      "Michael Arnold\n",
      "608-555-4938\n",
      "249 Elm St., Quahog OR 90938\n",
      "michaelarnold@bogusemail.com\n",
      "\n",
      "Michael Smith\n",
      "568-555-6051\n",
      "619 Park St., Winterfell VA 99000\n",
      "michaelsmith@bogusemail.com\n",
      "\n",
      "Erik Stuart\n",
      "292-555-1875\n",
      "220 Cedar St., Lakeview NY 87282\n",
      "robertstuart@bogusemail.com\n",
      "\n",
      "Laura Martin\n",
      "900-555-3205\n",
      "391 High St., Smalltown WY 28362\n",
      "lauramartin@bogusemail.com\n",
      "\n",
      "Barbara Martin\n",
      "614-555-1166\n",
      "121 Hill St., Braavos‎ UT 92474\n",
      "barbaramartin@bogusemail.com\n",
      "\n",
      "Linda Jackson\n",
      "530-555-2676\n",
      "433 Elm St., Westworld TX 61967\n",
      "lindajackson@bogusemail.com\n",
      "\n",
      "Eric Miller\n",
      "470-555-2750\n",
      "838 Main St., Balmora MT 56526\n",
      "stevemiller@bogusemail.com\n",
      "\n",
      "Dave Arnold\n",
      "800-555-6089\n",
      "732 High St., Valyria KY 97152\n",
      "davearnold@bogusemail.com\n",
      "\n",
      "Jennifer Jacobs\n",
      "880-555-8319\n",
      "217 High St., Old-town IA 82767\n",
      "jenniferjacobs@bogusemail.com\n",
      "\n",
      "Neil Wilson\n",
      "777-555-8378\n",
      "191 Main St., Mordor IL 72160\n",
      "neilwilson@bogusemail.com\n",
      "\n",
      "Kurt Jackson\n",
      "998-555-7385\n",
      "607 Washington St., Blackwater NH 97183\n",
      "kurtjackson@bogusemail.com\n",
      "\n",
      "Mary Jacobs\n",
      "800-555-7100\n",
      "478 Oak St., Bedrock IA 58176\n",
      "maryjacobs@bogusemail.com\n",
      "\n",
      "Michael White\n",
      "903-555-8277\n",
      "906 Elm St., Mordor TX 89212\n",
      "michaelwhite@bogusemail.com\n",
      "\n",
      "Jennifer Jenkins\n",
      "196-555-5674\n",
      "949 Main St., Smalltown SC 96962\n",
      "jenniferjenkins@bogusemail.com\n",
      "\n",
      "Sam Wright\n",
      "900-555-5118\n",
      "835 Pearl St., Smalltown ND 77737\n",
      "samwright@bogusemail.com\n",
      "\n",
      "John Davis\n",
      "905-555-1630\n",
      "451 Lake St., Bedrock GA 34615\n",
      "johndavis@bogusemail.com\n",
      "\n",
      "Eric Davis\n",
      "203-555-3475\n",
      "419 Lake St., Balmora OR 30826\n",
      "neildavis@bogusemail.com\n",
      "\n",
      "Laura Jackson\n",
      "884-555-8444\n",
      "443 Maple St., Quahog MS 29348\n",
      "laurajackson@bogusemail.com\n",
      "\n",
      "John Williams\n",
      "904-555-8559\n",
      "756 Hill St., Valyria KY 94854\n",
      "johnwilliams@bogusemail.com\n",
      "\n",
      "Michael Martin\n",
      "889-555-7393\n",
      "216 High St., Olympus NV 21888\n",
      "michaelmartin@bogusemail.com\n",
      "\n",
      "Maggie Brown\n",
      "195-555-2405\n",
      "806 Lake St., Lakeview MD 59348\n",
      "maggiebrown@bogusemail.com\n",
      "\n",
      "Erik Wilson\n",
      "321-555-9053\n",
      "354 Hill St., Mordor FL 74122\n",
      "kurtwilson@bogusemail.com\n",
      "\n",
      "Elizabeth Arnold\n",
      "133-555-1711\n",
      "805 Maple St., Winterfell NV 99431\n",
      "elizabetharnold@bogusemail.com\n",
      "\n",
      "Jane Martin\n",
      "900-555-5428\n",
      "418 Park St., Metropolis ID 16576\n",
      "janemartin@bogusemail.com\n",
      "\n",
      "Travis Johnson\n",
      "760-555-7147\n",
      "749 Washington St., Braavos‎ SD 25668\n",
      "travisjohnson@bogusemail.com\n",
      "\n",
      "Laura Jefferson\n",
      "391-555-6621\n",
      "122 High St., Metropolis ME 29540\n",
      "laurajefferson@bogusemail.com\n",
      "\n",
      "Tom Williams\n",
      "932-555-7724\n",
      "610 High St., Old-town FL 60758\n",
      "tomwilliams@bogusemail.com\n",
      "\n",
      "Jennifer Taylor\n",
      "609-555-7908\n",
      "332 Main St., Pythonville OH 78172\n",
      "jennifertaylor@bogusemail.com\n",
      "\n",
      "Erick Wright\n",
      "800-555-8810\n",
      "858 Hill St., Blackwater NC 79714\n",
      "jenniferwright@bogusemail.com\n",
      "\n",
      "Steve Doe\n",
      "149-555-7657\n",
      "441 Elm St., Atlantis MS 87195\n",
      "stevedoe@bogusemail.com\n",
      "\n",
      "Kurt Davis\n",
      "130-555-9709\n",
      "404 Oak St., Atlantis ND 85386\n",
      "kurtdavis@bogusemail.com\n",
      "\n",
      "Corey Harris\n",
      "143-555-9295\n",
      "286 Pearl St., Vice City TX 57112\n",
      "coreyharris@bogusemail.com\n",
      "\n",
      "Nicole Taylor\n",
      "903-555-9878\n",
      "465 Hill St., Old-town LA 64102\n",
      "nicoletaylor@bogusemail.com\n",
      "\n",
      "Elizabeth Davis\n",
      "574-555-3194\n",
      "151 Lake St., Eerie SD 17880\n",
      "elizabethdavis@bogusemail.com\n",
      "\n",
      "Maggie Jenkins\n",
      "496-555-7533\n",
      "504 Lake St., Gotham PA 46692\n",
      "maggiejenkins@bogusemail.com\n",
      "\n",
      "Linda Davis\n",
      "210-555-3757\n",
      "201 Pine St., Vice City AR 78455\n",
      "lindadavis@bogusemail.com\n",
      "\n",
      "Dave Moore\n",
      "900-555-9598\n",
      "251 Pine St., Old-town OK 29087\n",
      "davemoore@bogusemail.com\n",
      "\n",
      "Linda Jenkins\n",
      "866-555-9844\n",
      "117 High St., Bedrock NE 11899\n",
      "lindajenkins@bogusemail.com\n",
      "\n",
      "Eric White\n",
      "669-555-7159\n",
      "650 Oak St., Smalltown TN 43281\n",
      "samwhite@bogusemail.com\n",
      "\n",
      "Laura Robinson\n",
      "152-555-7417\n",
      "377 Pine St., Valyria NC 78036\n",
      "laurarobinson@bogusemail.com\n",
      "\n",
      "Charles Patterson\n",
      "893-555-9832\n",
      "416 Pearl St., Valyria AK 62260\n",
      "charlespatterson@bogusemail.com\n",
      "\n",
      "Joe Jackson\n",
      "217-555-7123\n",
      "683 Cedar St., South Park KS 66724\n",
      "joejackson@bogusemail.com\n",
      "\n",
      "Michael Johnson\n",
      "786-555-6544\n",
      "288 Hill St., Smalltown AZ 18586\n",
      "michaeljohnson@bogusemail.com\n",
      "\n",
      "Corey Miller\n",
      "780-555-2574\n",
      "286 High St., Springfield IA 16272\n",
      "coreymiller@bogusemail.com\n",
      "\n",
      "James Moore\n",
      "926-555-8735\n",
      "278 Main St., Gotham KY 89569\n",
      "jamesmoore@bogusemail.com\n",
      "\n",
      "Jennifer Stuart\n",
      "895-555-3539\n",
      "766 Hill St., King's Landing GA 54999\n",
      "jenniferstuart@bogusemail.com\n",
      "\n",
      "Charles Martin\n",
      "874-555-3949\n",
      "775 High St., Faketown PA 89260\n",
      "charlesmartin@bogusemail.com\n",
      "\n",
      "Eric Wilks\n",
      "800-555-2420\n",
      "885 Main St., Blackwater OH 61275\n",
      "joewilks@bogusemail.com\n",
      "\n",
      "Elizabeth Arnold\n",
      "936-555-6340\n",
      "528 Hill St., Atlantis NH 88289\n",
      "elizabetharnold@bogusemail.com\n",
      "\n",
      "John Miller\n",
      "372-555-9809\n",
      "117 Cedar St., Thundera NM 75205\n",
      "johnmiller@bogusemail.com\n",
      "\n",
      "Corey Jackson\n",
      "890-555-5618\n",
      "115 Oak St., Gotham UT 36433\n",
      "coreyjackson@bogusemail.com\n",
      "\n",
      "Sam Thomas\n",
      "670-555-3005\n",
      "743 Lake St., Springfield MS 25473\n",
      "samthomas@bogusemail.com\n",
      "\n",
      "Patricia Thomas\n",
      "509-555-5997\n",
      "381 Hill St., Blackwater CT 30958\n",
      "patriciathomas@bogusemail.com\n",
      "\n",
      "Jennifer Davis\n",
      "721-555-5632\n",
      "125 Main St., Smalltown MT 62155\n",
      "jenniferdavis@bogusemail.com\n",
      "\n",
      "Patricia Brown\n",
      "900-555-3567\n",
      "292 Hill St., Gotham WV 57680\n",
      "patriciabrown@bogusemail.com\n",
      "\n",
      "Barbara Williams\n",
      "147-555-6830\n",
      "514 Park St., Balmora NV 55462\n",
      "barbarawilliams@bogusemail.com\n",
      "\n",
      "James Taylor\n",
      "582-555-3426\n",
      "776 Hill St., Dawnstar MA 51312\n",
      "jamestaylor@bogusemail.com\n",
      "\n",
      "Eric Harris\n",
      "400-555-1706\n",
      "421 Elm St., Smalltown NV 72025\n",
      "barbaraharris@bogusemail.com\n",
      "\n",
      "Travis Anderson\n",
      "525-555-1793\n",
      "937 Cedar St., Thundera WA 78862\n",
      "travisanderson@bogusemail.com\n",
      "\n",
      "Sam Robinson\n",
      "317-555-6700\n",
      "417 Pine St., Lakeview MD 13147\n",
      "samrobinson@bogusemail.com\n",
      "\n",
      "Steve Robinson\n",
      "974-555-8301\n",
      "478 Park St., Springfield NM 92369\n",
      "steverobinson@bogusemail.com\n",
      "\n",
      "Mary Wilson\n",
      "800-555-3216\n",
      "708 Maple St., Braavos‎ UT 29551\n",
      "marywilson@bogusemail.com\n",
      "\n",
      "Sam Wilson\n",
      "746-555-4094\n",
      "557 Pearl St., Westworld KS 23225\n",
      "samwilson@bogusemail.com\n",
      "\n",
      "Charles Jones\n",
      "922-555-1773\n",
      "855 Hill St., Olympus HI 81427\n",
      "charlesjones@bogusemail.com\n",
      "\n",
      "Laura Brown\n",
      "711-555-4427\n",
      "980 Maple St., Smalltown MO 96421\n",
      "laurabrown@bogusemail.com\n",
      "\n",
      "Tom Harris\n",
      "355-555-1872\n",
      "676 Hill St., Blackwater AR 96698\n",
      "tomharris@bogusemail.com\n",
      "\n",
      "Patricia Taylor\n",
      "852-555-6521\n",
      "588 Pine St., Olympus FL 98412\n",
      "patriciataylor@bogusemail.com\n",
      "\n",
      "Barbara Williams\n",
      "691-555-5773\n",
      "351 Elm St., Sunnydale GA 26245\n",
      "barbarawilliams@bogusemail.com\n",
      "\n",
      "Maggie Johnson\n",
      "332-555-5441\n",
      "948 Cedar St., Quahog DE 56449\n",
      "maggiejohnson@bogusemail.com\n",
      "\n",
      "Kurt Miller\n",
      "900-555-7755\n",
      "381 Hill St., Quahog AL 97503\n",
      "kurtmiller@bogusemail.com\n",
      "\n",
      "Neil Stuart\n",
      "379-555-3685\n",
      "496 Cedar St., Sunnydale RI 49113\n",
      "neilstuart@bogusemail.com\n",
      "\n",
      "Linda Patterson\n",
      "127-555-9682\n",
      "736 Cedar St., Lakeview KY 47472\n",
      "lindapatterson@bogusemail.com\n",
      "\n",
      "Charles Davis\n",
      "789-555-7032\n",
      "678 Lake St., Mordor MN 11845\n",
      "charlesdavis@bogusemail.com\n",
      "\n",
      "Jennifer Jefferson\n",
      "783-555-5135\n",
      "289 Park St., Sunnydale WA 74526\n",
      "jenniferjefferson@bogusemail.com\n",
      "\n",
      "Erick Taylor\n",
      "315-555-6507\n",
      "245 Washington St., Bedrock IL 26941\n",
      "coreytaylor@bogusemail.com\n",
      "\n",
      "Robert Wilks\n",
      "481-555-5835\n",
      "573 Elm St., Sunnydale IL 47182\n",
      "robertwilks@bogusemail.com\n",
      "\n",
      "Travis Jackson\n",
      "365-555-8287\n",
      "851 Lake St., Metropolis PA 22772\n",
      "travisjackson@bogusemail.com\n",
      "\n",
      "Travis Jackson\n",
      "911-555-7535\n",
      "489 Oak St., Atlantis HI 73725\n",
      "travisjackson@bogusemail.com\n",
      "\n",
      "Laura Wilks\n",
      "681-555-2460\n",
      "371 Pearl St., Smalltown SC 47466\n",
      "laurawilks@bogusemail.com\n",
      "\n",
      "Neil Arnold\n",
      "274-555-9800\n",
      "504 Oak St., Faketown PA 73860\n",
      "neilarnold@bogusemail.com\n",
      "\n",
      "Linda Johnson\n",
      "800-555-1372\n",
      "667 High St., Balmora IN 82473\n",
      "lindajohnson@bogusemail.com\n",
      "\n",
      "Jennifer Wilson\n",
      "300-555-7821\n",
      "266 Pine St., Westworld DC 58720\n",
      "jenniferwilson@bogusemail.com\n",
      "\n",
      "Nicole White\n",
      "133-555-3889\n",
      "276 High St., Braavos‎ IL 57764\n",
      "nicolewhite@bogusemail.com\n",
      "\n",
      "Maria Arnold\n",
      "705-555-6863\n",
      "491 Elm St., Metropolis PA 31836\n",
      "mariaarnold@bogusemail.com\n",
      "\n",
      "Jennifer Davis\n",
      "215-555-9449\n",
      "859 Cedar St., Old-town MT 31169\n",
      "jenniferdavis@bogusemail.com\n",
      "\n",
      "Mary Patterson\n",
      "988-555-6112\n",
      "956 Park St., Valyria CT 81541\n",
      "marypatterson@bogusemail.com\n",
      "\n",
      "Jane Stuart\n",
      "623-555-3006\n",
      "983 Oak St., Old-town RI 15445\n",
      "janestuart@bogusemail.com\n",
      "\n",
      "Robert Davis\n",
      "192-555-4977\n",
      "789 Maple St., Mordor IN 22215\n",
      "robertdavis@bogusemail.com\n",
      "\n",
      "James Taylor\n",
      "178-555-4899\n",
      "439 Hill St., Olympus NV 39308\n",
      "jamestaylor@bogusemail.com\n",
      "\n",
      "Eric Stuart\n",
      "952-555-3089\n",
      "777 High St., King's Landing AZ 16547\n",
      "johnstuart@bogusemail.com\n",
      "\n",
      "Charles Miller\n",
      "900-555-6426\n",
      "207 Washington St., Blackwater MA 24886\n",
      "charlesmiller@bogusemail.com\n"
     ]
    }
   ],
   "source": [
    "print(contents)"
   ]
  },
  {
   "cell_type": "code",
   "execution_count": 17,
   "id": "textile-rehabilitation",
   "metadata": {},
   "outputs": [
    {
     "name": "stdout",
     "output_type": "stream",
     "text": [
      "<re.Match object; span=(12, 23), match='615-555-716'>\n",
      "<re.Match object; span=(102, 113), match='800-555-566'>\n",
      "<re.Match object; span=(191, 202), match='560-555-515'>\n",
      "<re.Match object; span=(281, 292), match='900-555-934'>\n",
      "<re.Match object; span=(378, 389), match='714-555-740'>\n",
      "<re.Match object; span=(467, 478), match='800-555-677'>\n",
      "<re.Match object; span=(557, 568), match='783-555-479'>\n",
      "<re.Match object; span=(647, 658), match='516-555-461'>\n",
      "<re.Match object; span=(740, 751), match='127-555-186'>\n",
      "<re.Match object; span=(829, 840), match='608-555-493'>\n",
      "<re.Match object; span=(915, 926), match='568-555-605'>\n",
      "<re.Match object; span=(1003, 1014), match='292-555-187'>\n",
      "<re.Match object; span=(1091, 1102), match='900-555-320'>\n",
      "<re.Match object; span=(1180, 1191), match='614-555-116'>\n",
      "<re.Match object; span=(1269, 1280), match='530-555-267'>\n",
      "<re.Match object; span=(1355, 1366), match='470-555-275'>\n",
      "<re.Match object; span=(1439, 1450), match='800-555-608'>\n",
      "<re.Match object; span=(1526, 1537), match='880-555-831'>\n",
      "<re.Match object; span=(1614, 1625), match='777-555-837'>\n",
      "<re.Match object; span=(1697, 1708), match='998-555-738'>\n",
      "<re.Match object; span=(1790, 1801), match='800-555-710'>\n",
      "<re.Match object; span=(1874, 1885), match='903-555-827'>\n",
      "<re.Match object; span=(1962, 1973), match='196-555-567'>\n",
      "<re.Match object; span=(2051, 2062), match='900-555-511'>\n",
      "<re.Match object; span=(2135, 2146), match='905-555-163'>\n",
      "<re.Match object; span=(2216, 2227), match='203-555-347'>\n",
      "<re.Match object; span=(2300, 2311), match='884-555-844'>\n",
      "<re.Match object; span=(2387, 2398), match='904-555-855'>\n",
      "<re.Match object; span=(2475, 2486), match='889-555-739'>\n",
      "<re.Match object; span=(2562, 2573), match='195-555-240'>\n",
      "<re.Match object; span=(2647, 2658), match='321-555-905'>\n",
      "<re.Match object; span=(2734, 2745), match='133-555-171'>\n",
      "<re.Match object; span=(2826, 2837), match='900-555-542'>\n",
      "<re.Match object; span=(2915, 2926), match='760-555-714'>\n",
      "<re.Match object; span=(3012, 3023), match='391-555-662'>\n",
      "<re.Match object; span=(3103, 3114), match='932-555-772'>\n",
      "<re.Match object; span=(3192, 3203), match='609-555-790'>\n",
      "<re.Match object; span=(3284, 3295), match='800-555-881'>\n",
      "<re.Match object; span=(3372, 3383), match='149-555-765'>\n",
      "<re.Match object; span=(3452, 3463), match='130-555-970'>\n",
      "<re.Match object; span=(3535, 3546), match='143-555-929'>\n",
      "<re.Match object; span=(3624, 3635), match='903-555-987'>\n",
      "<re.Match object; span=(3714, 3725), match='574-555-319'>\n",
      "<re.Match object; span=(3802, 3813), match='496-555-753'>\n",
      "<re.Match object; span=(3887, 3898), match='210-555-375'>\n",
      "<re.Match object; span=(3971, 3982), match='900-555-959'>\n",
      "<re.Match object; span=(4056, 4067), match='866-555-984'>\n",
      "<re.Match object; span=(4140, 4151), match='669-555-715'>\n",
      "<re.Match object; span=(4225, 4236), match='152-555-741'>\n",
      "<re.Match object; span=(4317, 4328), match='893-555-983'>\n",
      "<re.Match object; span=(4407, 4418), match='217-555-712'>\n",
      "<re.Match object; span=(4498, 4509), match='786-555-654'>\n",
      "<re.Match object; span=(4588, 4599), match='780-555-257'>\n",
      "<re.Match object; span=(4676, 4687), match='926-555-873'>\n",
      "<re.Match object; span=(4762, 4773), match='895-555-353'>\n",
      "<re.Match object; span=(4859, 4870), match='874-555-394'>\n",
      "<re.Match object; span=(4945, 4956), match='800-555-242'>\n",
      "<re.Match object; span=(5034, 5045), match='936-555-634'>\n",
      "<re.Match object; span=(5123, 5134), match='372-555-980'>\n",
      "<re.Match object; span=(5210, 5221), match='890-555-561'>\n",
      "<re.Match object; span=(5292, 5303), match='670-555-300'>\n",
      "<re.Match object; span=(5382, 5393), match='509-555-599'>\n",
      "<re.Match object; span=(5475, 5486), match='721-555-563'>\n",
      "<re.Match object; span=(5566, 5577), match='900-555-356'>\n",
      "<re.Match object; span=(5656, 5667), match='147-555-683'>\n",
      "<re.Match object; span=(5745, 5756), match='582-555-342'>\n",
      "<re.Match object; span=(5830, 5841), match='400-555-170'>\n",
      "<re.Match object; span=(5921, 5932), match='525-555-179'>\n",
      "<re.Match object; span=(6011, 6022), match='317-555-670'>\n",
      "<re.Match object; span=(6099, 6110), match='974-555-830'>\n",
      "<re.Match object; span=(6189, 6200), match='800-555-321'>\n",
      "<re.Match object; span=(6273, 6284), match='746-555-409'>\n",
      "<re.Match object; span=(6360, 6371), match='922-555-177'>\n",
      "<re.Match object; span=(6445, 6456), match='711-555-442'>\n",
      "<re.Match object; span=(6530, 6541), match='355-555-187'>\n",
      "<re.Match object; span=(6619, 6630), match='852-555-652'>\n",
      "<re.Match object; span=(6711, 6722), match='691-555-577'>\n",
      "<re.Match object; span=(6803, 6814), match='332-555-544'>\n",
      "<re.Match object; span=(6889, 6900), match='900-555-775'>\n",
      "<re.Match object; span=(6971, 6982), match='379-555-368'>\n",
      "<re.Match object; span=(7061, 7072), match='127-555-968'>\n",
      "<re.Match object; span=(7152, 7163), match='789-555-703'>\n",
      "<re.Match object; span=(7243, 7254), match='783-555-513'>\n",
      "<re.Match object; span=(7336, 7347), match='315-555-650'>\n",
      "<re.Match object; span=(7427, 7438), match='481-555-583'>\n",
      "<re.Match object; span=(7515, 7526), match='365-555-828'>\n",
      "<re.Match object; span=(7607, 7618), match='911-555-753'>\n",
      "<re.Match object; span=(7693, 7704), match='681-555-246'>\n",
      "<re.Match object; span=(7779, 7790), match='274-555-980'>\n",
      "<re.Match object; span=(7864, 7875), match='800-555-137'>\n",
      "<re.Match object; span=(7953, 7964), match='300-555-782'>\n",
      "<re.Match object; span=(8043, 8054), match='133-555-388'>\n",
      "<re.Match object; span=(8129, 8140), match='705-555-686'>\n",
      "<re.Match object; span=(8218, 8229), match='215-555-944'>\n",
      "<re.Match object; span=(8309, 8320), match='988-555-611'>\n",
      "<re.Match object; span=(8395, 8406), match='623-555-300'>\n",
      "<re.Match object; span=(8479, 8490), match='192-555-497'>\n",
      "<re.Match object; span=(8564, 8575), match='178-555-489'>\n",
      "<re.Match object; span=(8648, 8659), match='952-555-308'>\n",
      "<re.Match object; span=(8741, 8752), match='900-555-642'>\n"
     ]
    }
   ],
   "source": [
    "matches = pattern.finditer(contents)\n",
    "\n",
    "for match in matches:\n",
    "    print(match)"
   ]
  },
  {
   "cell_type": "code",
   "execution_count": 21,
   "id": "invalid-corpus",
   "metadata": {},
   "outputs": [
    {
     "name": "stdout",
     "output_type": "stream",
     "text": [
      "<re.Match object; span=(155, 166), match='321-555-432'>\n",
      "<re.Match object; span=(168, 179), match='123.555.123'>\n"
     ]
    }
   ],
   "source": [
    "pattern = re.compile(r'\\d\\d\\d[-.]\\d\\d\\d[-.]\\d\\d\\d') #character search\n",
    "\n",
    "matches = pattern.finditer(text_to_search)\n",
    "\n",
    "for match in matches:\n",
    "    print(match)"
   ]
  },
  {
   "cell_type": "code",
   "execution_count": 23,
   "id": "enabling-professor",
   "metadata": {},
   "outputs": [
    {
     "name": "stdout",
     "output_type": "stream",
     "text": [
      "<re.Match object; span=(194, 205), match='800.555.123'>\n",
      "<re.Match object; span=(207, 218), match='900.555.123'>\n"
     ]
    }
   ],
   "source": [
    "pattern = re.compile(r'[89]00[-.]\\d\\d\\d[-.]\\d\\d\\d') #character search\n",
    "\n",
    "matches = pattern.finditer(text_to_search)\n",
    "\n",
    "for match in matches:\n",
    "    print(match)"
   ]
  },
  {
   "cell_type": "code",
   "execution_count": null,
   "id": "accessible-incidence",
   "metadata": {},
   "outputs": [],
   "source": [
    "#[^a-zA-Z] ^ negate and - for range"
   ]
  },
  {
   "cell_type": "code",
   "execution_count": 25,
   "id": "united-approval",
   "metadata": {},
   "outputs": [
    {
     "name": "stdout",
     "output_type": "stream",
     "text": [
      "<re.Match object; span=(272, 275), match='cat'>\n",
      "<re.Match object; span=(280, 283), match='pat'>\n",
      "<re.Match object; span=(284, 287), match='mat'>\n"
     ]
    }
   ],
   "source": [
    "pattern = re.compile(r'[^b]at') #character search\n",
    "\n",
    "matches = pattern.finditer(text_to_search)\n",
    "\n",
    "for match in matches:\n",
    "    print(match)"
   ]
  },
  {
   "cell_type": "code",
   "execution_count": 27,
   "id": "classical-holder",
   "metadata": {},
   "outputs": [
    {
     "name": "stdout",
     "output_type": "stream",
     "text": [
      "<re.Match object; span=(155, 167), match='321-555-4321'>\n",
      "<re.Match object; span=(168, 180), match='123.555.1234'>\n",
      "<re.Match object; span=(181, 193), match='350*555*1234'>\n",
      "<re.Match object; span=(194, 206), match='800.555.1234'>\n",
      "<re.Match object; span=(207, 219), match='900.555.1234'>\n"
     ]
    }
   ],
   "source": [
    "#Quantifiers\n",
    "\n",
    "pattern = re.compile(r'\\d{3}.\\d{3}.\\d{4}') #character search\n",
    "\n",
    "matches = pattern.finditer(text_to_search)\n",
    "\n",
    "for match in matches:\n",
    "    print(match)"
   ]
  },
  {
   "cell_type": "code",
   "execution_count": 30,
   "id": "accredited-grade",
   "metadata": {},
   "outputs": [
    {
     "name": "stdout",
     "output_type": "stream",
     "text": [
      "<re.Match object; span=(221, 232), match='Mr. Schafer'>\n",
      "<re.Match object; span=(233, 241), match='Mr Smith'>\n",
      "<re.Match object; span=(242, 250), match='Ms Davis'>\n",
      "<re.Match object; span=(251, 264), match='Mrs. Robinson'>\n",
      "<re.Match object; span=(265, 270), match='Mr. T'>\n"
     ]
    }
   ],
   "source": [
    "#Quantifiers\n",
    "\n",
    "pattern = re.compile(r'M(r|s|rs)\\.?\\s[A-Z]\\w*') #character search (| or) (?0 or more after alpha) \\s space \\w* 0 or more words after word\n",
    "\n",
    "matches = pattern.finditer(text_to_search)\n",
    "\n",
    "for match in matches:\n",
    "    print(match)"
   ]
  },
  {
   "cell_type": "code",
   "execution_count": 31,
   "id": "formal-march",
   "metadata": {},
   "outputs": [],
   "source": [
    "emails = '''\n",
    "CoreyMSchafer@gmail.com\n",
    "corey.schafer@university.edu\n",
    "corey-321-schafer@my-work.net\n",
    "'''"
   ]
  },
  {
   "cell_type": "code",
   "execution_count": 36,
   "id": "universal-layer",
   "metadata": {},
   "outputs": [
    {
     "name": "stdout",
     "output_type": "stream",
     "text": [
      "<re.Match object; span=(1, 24), match='CoreyMSchafer@gmail.com'>\n",
      "<re.Match object; span=(25, 53), match='corey.schafer@university.edu'>\n",
      "<re.Match object; span=(54, 83), match='corey-321-schafer@my-work.net'>\n"
     ]
    }
   ],
   "source": [
    "pattern = re.compile(r'[a-zA-Z0-9_.+-]+@[a-zA-Z0-9-]+\\.[a-zA-Z0-9-.]+')  #(r'[a-zA-Z0-9.-]+@[a-zA-Z-]+\\.(com|edu|net)')\n",
    "\n",
    "matches = pattern.finditer(emails)\n",
    "\n",
    "for match in matches:\n",
    "    print(match)"
   ]
  },
  {
   "cell_type": "code",
   "execution_count": 37,
   "id": "numerical-stage",
   "metadata": {},
   "outputs": [],
   "source": [
    "urls = '''\n",
    "https://www.google.com\n",
    "http://coreyms.com\n",
    "https://youtube.com\n",
    "https://www.nasa.gov\n",
    "'''"
   ]
  },
  {
   "cell_type": "code",
   "execution_count": 41,
   "id": "variable-branch",
   "metadata": {},
   "outputs": [
    {
     "name": "stdout",
     "output_type": "stream",
     "text": [
      "google\n",
      "coreyms\n",
      "youtube\n",
      "nasa\n"
     ]
    }
   ],
   "source": [
    "pattern = re.compile(r'https?://(www\\.)?(\\w+)(\\.\\w+)')  #?0 or s()group ? \\w word\n",
    "\n",
    "matches = pattern.finditer(urls)\n",
    "\n",
    "for match in matches:\n",
    "    print(match.group(2)) #() is group"
   ]
  },
  {
   "cell_type": "code",
   "execution_count": 43,
   "id": "collected-cursor",
   "metadata": {},
   "outputs": [
    {
     "name": "stdout",
     "output_type": "stream",
     "text": [
      "\n",
      "google.com\n",
      "coreyms.com\n",
      "youtube.com\n",
      "nasa.gov\n",
      "\n"
     ]
    }
   ],
   "source": [
    "pattern = re.compile(r'https?://(www\\.)?(\\w+)(\\.\\w+)')  #?0 or s()group ? \\w word\n",
    "\n",
    "subbed_urls = pattern.sub(r'\\2\\3',urls) #substitution\n",
    "print(subbed_urls)"
   ]
  },
  {
   "cell_type": "code",
   "execution_count": 44,
   "id": "elementary-heart",
   "metadata": {},
   "outputs": [
    {
     "name": "stdout",
     "output_type": "stream",
     "text": [
      "321-555-4321\n",
      "123.555.1234\n",
      "350*555*1234\n",
      "800.555.1234\n",
      "900.555.1234\n"
     ]
    }
   ],
   "source": [
    "#findall\n",
    "\n",
    "pattern = re.compile(r'\\d{3}.\\d{3}.\\d{4}') #character search\n",
    "\n",
    "matches = pattern.findall(text_to_search)\n",
    "\n",
    "for match in matches:\n",
    "    print(match)"
   ]
  },
  {
   "cell_type": "code",
   "execution_count": 47,
   "id": "systematic-comparative",
   "metadata": {},
   "outputs": [
    {
     "name": "stdout",
     "output_type": "stream",
     "text": [
      "<re.Match object; span=(0, 5), match='Start'>\n"
     ]
    }
   ],
   "source": [
    "#match\n",
    "\n",
    "sentence = 'Start a sentence and then bring it to an end'\n",
    "\n",
    "pattern = re.compile(r'Start')\n",
    "\n",
    "matches = pattern.match(sentence) #match finds only first character\n",
    "\n",
    "print(matches)"
   ]
  },
  {
   "cell_type": "code",
   "execution_count": 46,
   "id": "outside-miller",
   "metadata": {},
   "outputs": [
    {
     "name": "stdout",
     "output_type": "stream",
     "text": [
      "<re.Match object; span=(26, 31), match='bring'>\n"
     ]
    }
   ],
   "source": [
    "#search\n",
    "\n",
    "sentence = 'Start a sentence and then bring it to an end'\n",
    "\n",
    "pattern = re.compile(r'bring')\n",
    "\n",
    "matches = pattern.search(sentence)\n",
    "\n",
    "print(matches)"
   ]
  },
  {
   "cell_type": "code",
   "execution_count": 50,
   "id": "sapphire-thanks",
   "metadata": {},
   "outputs": [
    {
     "name": "stdout",
     "output_type": "stream",
     "text": [
      "<re.Match object; span=(0, 5), match='Start'>\n"
     ]
    }
   ],
   "source": [
    "#Flags\n",
    "\n",
    "#Ignore case flag\n",
    "\n",
    "sentence = 'Start a sentence and then bring it to an end'\n",
    "\n",
    "pattern = re.compile(r'start', re.I) #/IGNORECASE\n",
    "\n",
    "matches = pattern.search(sentence)\n",
    "\n",
    "print(matches)"
   ]
  },
  {
   "cell_type": "code",
   "execution_count": 1,
   "id": "pursuant-hearts",
   "metadata": {},
   "outputs": [
    {
     "name": "stdout",
     "output_type": "stream",
     "text": [
      "Given text is present\n"
     ]
    }
   ],
   "source": [
    "import re\n",
    "txt = \"The rain in Spain\"\n",
    "x = re.search(\"^The.*Spain$\",txt)\n",
    "if x:\n",
    "    print(\"Given text is present\")\n",
    "else:\n",
    "    print(\"It's not\")"
   ]
  },
  {
   "cell_type": "markdown",
   "id": "gentle-turtle",
   "metadata": {},
   "source": [
    "findall\tReturns a list containing all matches\n",
    "search\tReturns a Match object if there is a match anywhere in the string\n",
    "split\tReturns a list where the string has been split at each match\n",
    "sub\tReplaces one or many matches with a string"
   ]
  },
  {
   "cell_type": "markdown",
   "id": "operational-amber",
   "metadata": {},
   "source": [
    "# Metacharacters\n",
    "Metacharacters are characters with a special meaning:"
   ]
  },
  {
   "cell_type": "code",
   "execution_count": null,
   "id": "disabled-vaccine",
   "metadata": {},
   "outputs": [],
   "source": [
    "Character\tDescription\tExample\t\n",
    "[]\tA set of characters\t\"[a-m]\"\t\n",
    "\\\tSignals a special sequence (can also be used to escape special characters)\t\"\\d\"\t\n",
    ".\tAny character (except newline character)\t\"he..o\"\t\n",
    "^\tStarts with\t\"^hello\"\t\n",
    "$\tEnds with\t\"world$\"\t\n",
    "*\tZero or more occurrences\t\"aix*\"\t\n",
    "+\tOne or more occurrences\t\"aix+\"\t\n",
    "{}\tExactly the specified number of occurrences\t\"al{2}\"\t\n",
    "|\tEither or\t\"falls|stays\"\t\n",
    "()\tCapture and group"
   ]
  },
  {
   "cell_type": "markdown",
   "id": "satellite-spain",
   "metadata": {},
   "source": [
    "# Special Sequences\n",
    "A special sequence is a \\ followed by one of the characters in the list below, and has a special meaning:"
   ]
  },
  {
   "cell_type": "code",
   "execution_count": null,
   "id": "union-episode",
   "metadata": {},
   "outputs": [],
   "source": [
    "Character\tDescription\tExample\t\n",
    "\\A\tReturns a match if the specified characters are at the beginning of the string\t\"\\AThe\"\t\n",
    "\\b\tReturns a match where the specified characters are at the beginning or at the end of a word\n",
    "(the \"r\" in the beginning is making sure that the string is being treated as a \"raw string\")\tr\"\\bain\"\n",
    "r\"ain\\b\"\t\n",
    "\\B\tReturns a match where the specified characters are present, but NOT at the beginning (or at the end) of a word\n",
    "(the \"r\" in the beginning is making sure that the string is being treated as a \"raw string\")\tr\"\\Bain\"\n",
    "r\"ain\\B\"\t\n",
    "\\d\tReturns a match where the string contains digits (numbers from 0-9)\t\"\\d\"\t\n",
    "\\D\tReturns a match where the string DOES NOT contain digits\t\"\\D\"\t\n",
    "\\s\tReturns a match where the string contains a white space character\t\"\\s\"\t\n",
    "\\S\tReturns a match where the string DOES NOT contain a white space character\t\"\\S\"\t\n",
    "\\w\tReturns a match where the string contains any word characters (characters from a to Z, digits from 0-9, and the underscore _ character)\t\"\\w\"\t\n",
    "\\W\tReturns a match where the string DOES NOT contain any word characters\t\"\\W\"\t\n",
    "\\Z\tReturns a match if the specified characters are at the end of the string\t\"Spain\\Z\""
   ]
  },
  {
   "cell_type": "markdown",
   "id": "athletic-intersection",
   "metadata": {},
   "source": [
    "# Sets\n",
    "A set is a set of characters inside a pair of square brackets [] with a special meaning:"
   ]
  },
  {
   "cell_type": "code",
   "execution_count": null,
   "id": "electrical-productivity",
   "metadata": {},
   "outputs": [],
   "source": [
    "Set\tDescription\t\n",
    "[arn]\tReturns a match where one of the specified characters (a, r, or n) are present\t\n",
    "[a-n]\tReturns a match for any lower case character, alphabetically between a and n\t\n",
    "[^arn]\tReturns a match for any character EXCEPT a, r, and n\t\n",
    "[0123]\tReturns a match where any of the specified digits (0, 1, 2, or 3) are present\t\n",
    "[0-9]\tReturns a match for any digit between 0 and 9\t\n",
    "[0-5][0-9]\tReturns a match for any two-digit numbers from 00 and 59\t\n",
    "[a-zA-Z]\tReturns a match for any character alphabetically between a and z, lower case OR upper case\t\n",
    "[+]\tIn sets, +, *, ., |, (), $,{} has no special meaning, so [+] means: return a match for any + character in the string"
   ]
  },
  {
   "cell_type": "code",
   "execution_count": 2,
   "id": "unnecessary-performer",
   "metadata": {},
   "outputs": [
    {
     "name": "stdout",
     "output_type": "stream",
     "text": [
      "['ai', 'ai']\n"
     ]
    }
   ],
   "source": [
    "txt = \"The rain in Spain\"\n",
    "x = re.findall(\"ai\",txt)\n",
    "print(x)"
   ]
  },
  {
   "cell_type": "code",
   "execution_count": 3,
   "id": "intended-telephone",
   "metadata": {},
   "outputs": [
    {
     "name": "stdout",
     "output_type": "stream",
     "text": [
      "The first white-space character is located in position: 3\n"
     ]
    }
   ],
   "source": [
    "import re\n",
    "\n",
    "txt = \"The rain in Spain\"\n",
    "x = re.search(\"\\s\", txt)\n",
    "\n",
    "print(\"The first white-space character is located in position:\", x.start())"
   ]
  },
  {
   "cell_type": "code",
   "execution_count": 5,
   "id": "specialized-wiring",
   "metadata": {},
   "outputs": [
    {
     "name": "stdout",
     "output_type": "stream",
     "text": [
      "['The', 'rain in Spain']\n"
     ]
    }
   ],
   "source": [
    "import re\n",
    "\n",
    "#Split the string at the first white-space character:\n",
    "\n",
    "txt = \"The rain in Spain\"\n",
    "x = re.split(\"\\s\", txt, 1)\n",
    "print(x)"
   ]
  },
  {
   "cell_type": "code",
   "execution_count": 6,
   "id": "polyphonic-chest",
   "metadata": {},
   "outputs": [
    {
     "name": "stdout",
     "output_type": "stream",
     "text": [
      "The9rain9in Spain\n"
     ]
    }
   ],
   "source": [
    "import re\n",
    "\n",
    "#Replace the first two occurrences of a white-space character with the digit 9:\n",
    "\n",
    "txt = \"The rain in Spain\"\n",
    "x = re.sub(\"\\s\", \"9\", txt, 2)\n",
    "print(x)"
   ]
  },
  {
   "cell_type": "code",
   "execution_count": 7,
   "id": "lesser-measure",
   "metadata": {},
   "outputs": [
    {
     "name": "stdout",
     "output_type": "stream",
     "text": [
      "(12, 17)\n"
     ]
    }
   ],
   "source": [
    "import re\n",
    "\n",
    "#Search for an upper case \"S\" character in the beginning of a word, and print its position:\n",
    "\n",
    "txt = \"The rain in Spain\"\n",
    "x = re.search(r\"\\bS\\w+\", txt)\n",
    "print(x.span())"
   ]
  },
  {
   "cell_type": "code",
   "execution_count": 8,
   "id": "signal-singer",
   "metadata": {},
   "outputs": [
    {
     "name": "stdout",
     "output_type": "stream",
     "text": [
      "The rain in Spain\n"
     ]
    }
   ],
   "source": [
    "import re\n",
    "\n",
    "#The string property returns the search string:\n",
    "\n",
    "txt = \"The rain in Spain\"\n",
    "x = re.search(r\"\\bS\\w+\", txt)\n",
    "print(x.string)"
   ]
  },
  {
   "cell_type": "code",
   "execution_count": 9,
   "id": "crude-knitting",
   "metadata": {},
   "outputs": [
    {
     "name": "stdout",
     "output_type": "stream",
     "text": [
      "Spain\n"
     ]
    }
   ],
   "source": [
    "import re\n",
    "\n",
    "#Search for an upper case \"S\" character in the beginning of a word, and print the word:\n",
    "\n",
    "txt = \"The rain in Spain\"\n",
    "x = re.search(r\"\\bS\\w+\", txt)\n",
    "print(x.group())"
   ]
  }
 ],
 "metadata": {
  "kernelspec": {
   "display_name": "Python 3",
   "language": "python",
   "name": "python3"
  },
  "language_info": {
   "codemirror_mode": {
    "name": "ipython",
    "version": 3
   },
   "file_extension": ".py",
   "mimetype": "text/x-python",
   "name": "python",
   "nbconvert_exporter": "python",
   "pygments_lexer": "ipython3",
   "version": "3.7.10"
  }
 },
 "nbformat": 4,
 "nbformat_minor": 5
}
